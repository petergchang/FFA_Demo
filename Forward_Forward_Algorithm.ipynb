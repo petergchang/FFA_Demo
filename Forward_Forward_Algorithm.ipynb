{
  "nbformat": 4,
  "nbformat_minor": 0,
  "metadata": {
    "colab": {
      "provenance": []
    },
    "kernelspec": {
      "name": "python3",
      "display_name": "Python 3"
    },
    "language_info": {
      "name": "python"
    }
  },
  "cells": [
    {
      "cell_type": "markdown",
      "source": [
        "# 0. Imports"
      ],
      "metadata": {
        "id": "rJJY48hms8Bc"
      }
    },
    {
      "cell_type": "code",
      "source": [
        "%pip install flax\n",
        "%pip install git+https://github.com/probml/rebayes.git\n",
        "%pip install dynamax\n",
        "%pip install optax\n",
        "%pip install tqdm\n",
        "%pip install jax-tqdm\n",
        "%pip install augly\n",
        "%pip install bayesian-optimization"
      ],
      "metadata": {
        "id": "bfGHQCROs6o5"
      },
      "execution_count": null,
      "outputs": []
    },
    {
      "cell_type": "code",
      "execution_count": null,
      "metadata": {
        "id": "iWnXzYcysvX3"
      },
      "outputs": [],
      "source": [
        "import jax.numpy as jnp\n",
        "import jax.random as jr\n",
        "import flax"
      ]
    }
  ]
}