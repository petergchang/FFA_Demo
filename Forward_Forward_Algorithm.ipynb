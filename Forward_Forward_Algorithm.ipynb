{
  "nbformat": 4,
  "nbformat_minor": 0,
  "metadata": {
    "colab": {
      "provenance": []
    },
    "kernelspec": {
      "name": "python3",
      "display_name": "Python 3"
    },
    "language_info": {
      "name": "python"
    }
  },
  "cells": [
    {
      "cell_type": "markdown",
      "source": [
        "# 0. Imports and Dataset"
      ],
      "metadata": {
        "id": "rJJY48hms8Bc"
      }
    },
    {
      "cell_type": "code",
      "source": [
        "# %pip install flax\n",
        "# %pip install optax\n",
        "# %pip install tqdm\n",
        "# %pip install jax-tqdm\n",
        "# %pip install bayesian-optimization"
      ],
      "metadata": {
        "id": "bfGHQCROs6o5"
      },
      "execution_count": 2,
      "outputs": []
    },
    {
      "cell_type": "code",
      "execution_count": 3,
      "metadata": {
        "id": "iWnXzYcysvX3"
      },
      "outputs": [],
      "source": [
        "import jax\n",
        "from jax import jit, vmap\n",
        "import jax.numpy as jnp\n",
        "import jax.random as jr\n",
        "import flax.linen as nn\n",
        "import numpy as np\n",
        "import pandas as pd\n",
        "import seaborn as sns\n",
        "import matplotlib.pyplot as plt\n",
        "from functools import partial\n",
        "from typing import Callable\n",
        "from tqdm.notebook import tqdm\n",
        "from jax.flatten_util import ravel_pytree\n",
        "import torchvision\n",
        "import optax\n",
        "\n",
        "from jax.scipy.signal import convolve2d\n",
        "from jax.lax import scan"
      ]
    },
    {
      "cell_type": "code",
      "source": [
        "mnist_train = torchvision.datasets.MNIST(root='./data', train=True, download=True)\n",
        "images = np.array(mnist_train.data) / 255.0\n",
        "labels = mnist_train.targets\n",
        "\n",
        "mnist_test = torchvision.datasets.MNIST(root='./data', train=False)\n",
        "images_test = np.array(mnist_test.data) / 255.0\n",
        "labels_test = mnist_test.targets\n",
        "\n",
        "train = (images, labels)\n",
        "test = (images_test, labels_test)"
      ],
      "metadata": {
        "id": "AAxRltM6tVDv"
      },
      "execution_count": 5,
      "outputs": []
    },
    {
      "cell_type": "markdown",
      "source": [
        "# 1. Mask Generation"
      ],
      "metadata": {
        "id": "F66cWbKqwFrQ"
      }
    },
    {
      "cell_type": "markdown",
      "source": [
        "## 1.1 Example"
      ],
      "metadata": {
        "id": "GSA8ZJwzyQJM"
      }
    },
    {
      "cell_type": "markdown",
      "source": [
        "We show an example of applying the mask-generation pipeline described in the paper."
      ],
      "metadata": {
        "id": "QcZ0iCMbySWd"
      }
    },
    {
      "cell_type": "code",
      "source": [
        "key = jr.PRNGKey(0)\n",
        "mask_example = jr.randint(key, (28, 28), minval=0, maxval=2).astype(float)"
      ],
      "metadata": {
        "colab": {
          "base_uri": "https://localhost:8080/"
        },
        "id": "kfz9mVYmt7HO",
        "outputId": "25b14724-1804-403d-d4e8-5cf8cbbe77d3"
      },
      "execution_count": 6,
      "outputs": [
        {
          "output_type": "stream",
          "name": "stderr",
          "text": [
            "WARNING:jax._src.lib.xla_bridge:No GPU/TPU found, falling back to CPU. (Set TF_CPP_MIN_LOG_LEVEL=0 and rerun for more info.)\n"
          ]
        }
      ]
    },
    {
      "cell_type": "code",
      "source": [
        "fig, ax = plt.subplots()\n",
        "ax.imshow(mask_example);\n",
        "ax.set_title('Original randomized mask');"
      ],
      "metadata": {
        "colab": {
          "base_uri": "https://localhost:8080/",
          "height": 281
        },
        "id": "dt0x6-TPwJHv",
        "outputId": "3216b582-b5ce-4a61-8432-fe22819f9415"
      },
      "execution_count": 7,
      "outputs": [
        {
          "output_type": "display_data",
          "data": {
            "text/plain": [
              "<Figure size 432x288 with 1 Axes>"
            ],
            "image/png": "[encoded data removed]"
          },
          "metadata": {
            "needs_background": "light"
          }
        }
      ]
    },
    {
      "cell_type": "code",
      "source": [
        "def blur_filter(image, filter=(1/4, 1/2, 1/4), n_iter=5):\n",
        "    filter = jnp.array(filter)\n",
        "\n",
        "    def _apply_filter(image, _):\n",
        "        # Horizontal filter\n",
        "        blurred_image = convolve2d(image, filter.reshape(-1, 1), mode='same')\n",
        "\n",
        "        # Vertical filter\n",
        "        blurred_image = convolve2d(blurred_image, filter.reshape(1, -1), mode='same')\n",
        "\n",
        "        return (blurred_image), (blurred_image)\n",
        "    \n",
        "    blurred_image, _ = scan(_apply_filter, image, jnp.arange(n_iter))\n",
        "\n",
        "    return blurred_image\n",
        "\n",
        "apply_threshold = lambda arr: jnp.where(arr >= 0.5, 1.0, 0.0)"
      ],
      "metadata": {
        "id": "HUD8mij2whmg"
      },
      "execution_count": 8,
      "outputs": []
    },
    {
      "cell_type": "code",
      "source": [
        "fig, axes = plt.subplots(3, 2, figsize=(10, 17))\n",
        "n_iter_list = (1, 2, 5, 10, 20, 50)\n",
        "\n",
        "for i, n_iter in enumerate(n_iter_list):\n",
        "    curr_ax = axes[i//2, i%2]\n",
        "    blurred_image = apply_threshold(blur_filter(mask_example, n_iter=n_iter))\n",
        "    curr_ax.imshow(blurred_image)\n",
        "    curr_ax.set_title(f'Mask after applying filter {n_iter} times.');"
      ],
      "metadata": {
        "colab": {
          "base_uri": "https://localhost:8080/",
          "height": 970
        },
        "id": "T6c8tSP0yb5h",
        "outputId": "c982e12d-eae9-4ca7-8280-b853ddf59913"
      },
      "execution_count": 9,
      "outputs": [
        {
          "output_type": "display_data",
          "data": {
            "text/plain": [
              "<Figure size 720x1224 with 6 Axes>"
            ],
            "image/png": "[encoded data removed]"
          },
          "metadata": {
            "needs_background": "light"
          }
        }
      ]
    },
    {
      "cell_type": "markdown",
      "source": [
        "Using this mask (after applying filter 5 times) we can generate a hybrid image used as negative data."
      ],
      "metadata": {
        "id": "6rw4tQBPaRgd"
      }
    },
    {
      "cell_type": "code",
      "source": [
        "blurred_image = apply_threshold(blur_filter(mask_example, n_iter=5))\n",
        "neg_blurred_image = 1-blurred_image"
      ],
      "metadata": {
        "id": "L0EnYIRxbCNr"
      },
      "execution_count": 10,
      "outputs": []
    },
    {
      "cell_type": "code",
      "source": [
        "fig, axes = plt.subplots(2, 2, figsize=(10, 10))\n",
        "axes[0,0].imshow(images[0]);\n",
        "axes[0,0].set_title('Before applying filter');\n",
        "axes[1,0].imshow(images[1]);\n",
        "axes[1,0].set_title('Before applying filter');\n",
        "\n",
        "axes[0,1].imshow(images[0]*blurred_image);\n",
        "axes[0,1].set_title('After applying filter');\n",
        "axes[1,1].imshow(images[1]*neg_blurred_image);\n",
        "axes[1,1].set_title('After applying negative filter');"
      ],
      "metadata": {
        "colab": {
          "base_uri": "https://localhost:8080/",
          "height": 607
        },
        "id": "pcRxomn7aZuE",
        "outputId": "74242a19-657e-4707-a6dc-db84803b12f3"
      },
      "execution_count": 11,
      "outputs": [
        {
          "output_type": "display_data",
          "data": {
            "text/plain": [
              "<Figure size 720x720 with 4 Axes>"
            ],
            "image/png": "[encoded data removed]"
          },
          "metadata": {
            "needs_background": "light"
          }
        }
      ]
    },
    {
      "cell_type": "code",
      "source": [
        "fig, ax = plt.subplots(figsize=(5,5))\n",
        "ax.imshow(images[0]*blurred_image + images[1]*neg_blurred_image);\n",
        "ax.set_title('Hybrid image to be used as negative data');"
      ],
      "metadata": {
        "colab": {
          "base_uri": "https://localhost:8080/",
          "height": 336
        },
        "id": "B3WYELE7cNj-",
        "outputId": "e956bfd5-2f97-45ba-e6ea-f8817a314629"
      },
      "execution_count": 12,
      "outputs": [
        {
          "output_type": "display_data",
          "data": {
            "text/plain": [
              "<Figure size 360x360 with 1 Axes>"
            ],
            "image/png": "[encoded data removed]"
          },
          "metadata": {
            "needs_background": "light"
          }
        }
      ]
    },
    {
      "cell_type": "markdown",
      "source": [
        "## 1.2 Mask Generation Pipeline"
      ],
      "metadata": {
        "id": "yoKgj-VeaJpl"
      }
    },
    {
      "cell_type": "code",
      "source": [],
      "metadata": {
        "id": "8jJ5k0KNilY2"
      },
      "execution_count": null,
      "outputs": []
    },
    {
      "cell_type": "markdown",
      "source": [
        "# 2. MLP Model"
      ],
      "metadata": {
        "id": "u16R9TmNI-l1"
      }
    },
    {
      "cell_type": "code",
      "source": [
        "class MLP(nn.Module):\n",
        "    n_out: int\n",
        "    activation: Callable = nn.relu\n",
        "    \n",
        "    @nn.compact\n",
        "    def __call__(self, x):\n",
        "        x = x.ravel()\n",
        "        x = nn.Dense(2_000)(x)\n",
        "        x = self.activation(x)\n",
        "        x = nn.Dense(2_000)(x)\n",
        "        x = self.activation(x)\n",
        "        x = nn.Dense(2_000)(x)\n",
        "        x = self.activation(x)\n",
        "        x = nn.Dense(2_000)(x)\n",
        "        x = nn.Dense(self.n_out)(x)\n",
        "        return x\n",
        "    \n",
        "key = jr.PRNGKey(1)\n",
        "dim_out = 1\n",
        "dim_in = (28, 28, 1)\n",
        "model = MLP(dim_out, activation=nn.relu)\n",
        "params = model.init(key, jnp.ones((1, *dim_in)))\n",
        "flat_params, unflatten_fn = ravel_pytree(params)\n",
        "n_params = len(flat_params)\n",
        "print(f'flat_params.shape: {flat_params.shape}')\n",
        "\n",
        "# Define apply function\n",
        "def apply(flat_params, x, model, unflatten_fn):\n",
        "    return model.apply(unflatten_fn(flat_params), jnp.atleast_1d(x))\n",
        "\n",
        "mlp_apply_fn = partial(apply, model=model, unflatten_fn=unflatten_fn)"
      ],
      "metadata": {
        "id": "i7tOt7wiJE2m",
        "outputId": "78310bf1-d1f2-4df3-85cd-eaed9e342982",
        "colab": {
          "base_uri": "https://localhost:8080/"
        }
      },
      "execution_count": 14,
      "outputs": [
        {
          "output_type": "stream",
          "name": "stdout",
          "text": [
            "flat_params.shape: (13578001,)\n"
          ]
        }
      ]
    },
    {
      "cell_type": "code",
      "source": [],
      "metadata": {
        "id": "G_dO3aAGJQUU"
      },
      "execution_count": null,
      "outputs": []
    }
  ]
}