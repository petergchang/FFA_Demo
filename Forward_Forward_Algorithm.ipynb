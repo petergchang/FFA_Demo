{
  "cells": [
    {
      "cell_type": "markdown",
      "metadata": {
        "id": "rJJY48hms8Bc"
      },
      "source": [
        "# 0. Imports and Dataset"
      ]
    },
    {
      "cell_type": "code",
      "execution_count": 1,
      "metadata": {
        "id": "DrNg_Es0ry15"
      },
      "outputs": [],
      "source": [
        "from itertools import product\n",
        "from typing import List\n",
        "\n",
        "import chex\n",
        "import jax\n",
        "from jax import jit, value_and_grad, vmap\n",
        "import jax.numpy as jnp\n",
        "import jax.random as jr\n",
        "from flax.core import freeze, unfreeze\n",
        "import flax.linen as nn\n",
        "from flax.training.train_state import TrainState\n",
        "import numpy as np\n",
        "import pandas as pd\n",
        "import seaborn as sns\n",
        "import matplotlib.pyplot as plt\n",
        "from functools import partial\n",
        "from typing import Callable\n",
        "from tqdm.notebook import tqdm\n",
        "from jax.flatten_util import ravel_pytree\n",
        "import torchvision\n",
        "from torch.utils.data import Dataset, DataLoader\n",
        "import optax\n",
        "\n",
        "from jax.scipy.signal import convolve2d\n",
        "from jax.lax import scan"
      ]
    },
    {
      "cell_type": "code",
      "execution_count": 2,
      "metadata": {
        "id": "AAxRltM6tVDv",
        "colab": {
          "base_uri": "https://localhost:8080/"
        },
        "outputId": "7c462d9a-e46b-4f7f-ec8c-b1afbb820ffa"
      },
      "outputs": [
        {
          "output_type": "stream",
          "name": "stdout",
          "text": [
            "Downloading http://yann.lecun.com/exdb/mnist/train-images-idx3-ubyte.gz\n",
            "Downloading http://yann.lecun.com/exdb/mnist/train-images-idx3-ubyte.gz to ./data/MNIST/raw/train-images-idx3-ubyte.gz\n"
          ]
        },
        {
          "output_type": "stream",
          "name": "stderr",
          "text": [
            "100%|██████████| 9912422/9912422 [00:00<00:00, 172533370.04it/s]"
          ]
        },
        {
          "output_type": "stream",
          "name": "stdout",
          "text": [
            "Extracting ./data/MNIST/raw/train-images-idx3-ubyte.gz to ./data/MNIST/raw\n"
          ]
        },
        {
          "output_type": "stream",
          "name": "stderr",
          "text": [
            "\n"
          ]
        },
        {
          "output_type": "stream",
          "name": "stdout",
          "text": [
            "\n",
            "Downloading http://yann.lecun.com/exdb/mnist/train-labels-idx1-ubyte.gz\n",
            "Downloading http://yann.lecun.com/exdb/mnist/train-labels-idx1-ubyte.gz to ./data/MNIST/raw/train-labels-idx1-ubyte.gz\n"
          ]
        },
        {
          "output_type": "stream",
          "name": "stderr",
          "text": [
            "100%|██████████| 28881/28881 [00:00<00:00, 86217575.68it/s]\n"
          ]
        },
        {
          "output_type": "stream",
          "name": "stdout",
          "text": [
            "Extracting ./data/MNIST/raw/train-labels-idx1-ubyte.gz to ./data/MNIST/raw\n",
            "\n",
            "Downloading http://yann.lecun.com/exdb/mnist/t10k-images-idx3-ubyte.gz\n",
            "Downloading http://yann.lecun.com/exdb/mnist/t10k-images-idx3-ubyte.gz to ./data/MNIST/raw/t10k-images-idx3-ubyte.gz\n"
          ]
        },
        {
          "output_type": "stream",
          "name": "stderr",
          "text": [
            "100%|██████████| 1648877/1648877 [00:00<00:00, 64101913.97it/s]"
          ]
        },
        {
          "output_type": "stream",
          "name": "stdout",
          "text": [
            "Extracting ./data/MNIST/raw/t10k-images-idx3-ubyte.gz to ./data/MNIST/raw\n"
          ]
        },
        {
          "output_type": "stream",
          "name": "stderr",
          "text": [
            "\n"
          ]
        },
        {
          "output_type": "stream",
          "name": "stdout",
          "text": [
            "\n",
            "Downloading http://yann.lecun.com/exdb/mnist/t10k-labels-idx1-ubyte.gz\n",
            "Downloading http://yann.lecun.com/exdb/mnist/t10k-labels-idx1-ubyte.gz to ./data/MNIST/raw/t10k-labels-idx1-ubyte.gz\n"
          ]
        },
        {
          "output_type": "stream",
          "name": "stderr",
          "text": [
            "100%|██████████| 4542/4542 [00:00<00:00, 15941865.08it/s]\n"
          ]
        },
        {
          "output_type": "stream",
          "name": "stdout",
          "text": [
            "Extracting ./data/MNIST/raw/t10k-labels-idx1-ubyte.gz to ./data/MNIST/raw\n",
            "\n"
          ]
        }
      ],
      "source": [
        "mnist_train = torchvision.datasets.MNIST(root='./data', train=True, download=True)\n",
        "images = np.array(mnist_train.data) / 255.0\n",
        "labels = mnist_train.targets\n",
        "\n",
        "mnist_test = torchvision.datasets.MNIST(root='./data', train=False)\n",
        "images_test = np.array(mnist_test.data) / 255.0\n",
        "labels_test = mnist_test.targets\n",
        "\n",
        "X_train, y_train = jnp.array(images), jnp.array(labels)\n",
        "X_test, y_test = jnp.array(images_test), jnp.array(labels_test)"
      ]
    },
    {
      "cell_type": "markdown",
      "metadata": {
        "id": "F66cWbKqwFrQ"
      },
      "source": [
        "# 1. Mask Generation"
      ]
    },
    {
      "cell_type": "markdown",
      "metadata": {
        "id": "GSA8ZJwzyQJM"
      },
      "source": [
        "## 1.1 Example"
      ]
    },
    {
      "cell_type": "markdown",
      "metadata": {
        "id": "QcZ0iCMbySWd"
      },
      "source": [
        "We show an example of applying the mask-generation pipeline described in the paper."
      ]
    },
    {
      "cell_type": "code",
      "execution_count": 3,
      "metadata": {
        "id": "kfz9mVYmt7HO"
      },
      "outputs": [],
      "source": [
        "key = jr.PRNGKey(0)\n",
        "mask_example = jr.randint(key, (28, 28), minval=0, maxval=2).astype(float)"
      ]
    },
    {
      "cell_type": "code",
      "execution_count": 4,
      "metadata": {
        "colab": {
          "base_uri": "https://localhost:8080/",
          "height": 452
        },
        "id": "dt0x6-TPwJHv",
        "outputId": "1117e355-3352-423b-ab9f-94b26cc5f510"
      },
      "outputs": [
        {
          "output_type": "display_data",
          "data": {
            "text/plain": [
              "<Figure size 640x480 with 1 Axes>"
            ],
            "image/png": "[encoded data removed]"
          },
          "metadata": {}
        }
      ],
      "source": [
        "fig, ax = plt.subplots()\n",
        "ax.imshow(mask_example);\n",
        "ax.set_title('Original randomized mask');"
      ]
    },
    {
      "cell_type": "code",
      "execution_count": 5,
      "metadata": {
        "id": "HUD8mij2whmg"
      },
      "outputs": [],
      "source": [
        "def blur_filter(image, filter=(1/4, 1/2, 1/4), n_iter=5):\n",
        "    filter = jnp.array(filter)\n",
        "\n",
        "    def _apply_filter(image, _):\n",
        "        # Horizontal filter\n",
        "        blurred_image = convolve2d(image, filter.reshape(-1, 1), mode='same')\n",
        "\n",
        "        # Vertical filter\n",
        "        blurred_image = convolve2d(blurred_image, filter.reshape(1, -1), mode='same')\n",
        "\n",
        "        return (blurred_image), (blurred_image)\n",
        "    \n",
        "    blurred_image, _ = scan(_apply_filter, image, jnp.arange(n_iter))\n",
        "\n",
        "    return blurred_image\n",
        "\n",
        "apply_threshold = lambda arr: jnp.where(arr >= 0.5, 1.0, 0.0)"
      ]
    },
    {
      "cell_type": "code",
      "execution_count": 6,
      "metadata": {
        "colab": {
          "base_uri": "https://localhost:8080/",
          "height": 1000
        },
        "id": "T6c8tSP0yb5h",
        "outputId": "2972b201-2f2e-4e6c-967e-02f4d41cf74a"
      },
      "outputs": [
        {
          "output_type": "display_data",
          "data": {
            "text/plain": [
              "<Figure size 1000x1700 with 6 Axes>"
            ],
            "image/png": "[encoded data removed]"
          },
          "metadata": {}
        }
      ],
      "source": [
        "fig, axes = plt.subplots(3, 2, figsize=(10, 17))\n",
        "n_iter_list = (1, 2, 5, 10, 20, 50)\n",
        "\n",
        "for i, n_iter in enumerate(n_iter_list):\n",
        "    curr_ax = axes[i//2, i%2]\n",
        "    blurred_image = apply_threshold(blur_filter(mask_example, n_iter=n_iter))\n",
        "    curr_ax.imshow(blurred_image)\n",
        "    curr_ax.set_title(f'Mask after applying filter {n_iter} times.');"
      ]
    },
    {
      "cell_type": "markdown",
      "metadata": {
        "id": "6rw4tQBPaRgd"
      },
      "source": [
        "Using this mask (after applying filter 5 times) we can generate a hybrid image used as negative data."
      ]
    },
    {
      "cell_type": "code",
      "execution_count": 7,
      "metadata": {
        "id": "L0EnYIRxbCNr"
      },
      "outputs": [],
      "source": [
        "blurred_image = apply_threshold(blur_filter(mask_example, n_iter=5))\n",
        "neg_blurred_image = 1-blurred_image"
      ]
    },
    {
      "cell_type": "code",
      "execution_count": 8,
      "metadata": {
        "colab": {
          "base_uri": "https://localhost:8080/",
          "height": 853
        },
        "id": "pcRxomn7aZuE",
        "outputId": "3fca74ad-b150-41bc-a79b-fbe9fcbb1993"
      },
      "outputs": [
        {
          "output_type": "display_data",
          "data": {
            "text/plain": [
              "<Figure size 1000x1000 with 4 Axes>"
            ],
            "image/png": "[encoded data removed]"
          },
          "metadata": {}
        }
      ],
      "source": [
        "fig, axes = plt.subplots(2, 2, figsize=(10, 10))\n",
        "axes[0,0].imshow(images[0]);\n",
        "axes[0,0].set_title('Before applying filter');\n",
        "axes[1,0].imshow(images[1]);\n",
        "axes[1,0].set_title('Before applying filter');\n",
        "\n",
        "axes[0,1].imshow(images[0]*blurred_image);\n",
        "axes[0,1].set_title('After applying filter');\n",
        "axes[1,1].imshow(images[1]*neg_blurred_image);\n",
        "axes[1,1].set_title('After applying negative filter');"
      ]
    },
    {
      "cell_type": "code",
      "execution_count": 9,
      "metadata": {
        "colab": {
          "base_uri": "https://localhost:8080/",
          "height": 468
        },
        "id": "B3WYELE7cNj-",
        "outputId": "0d1137b7-183a-42fb-b794-6a347f07e00c"
      },
      "outputs": [
        {
          "output_type": "display_data",
          "data": {
            "text/plain": [
              "<Figure size 500x500 with 1 Axes>"
            ],
            "image/png": "[encoded data removed]"
          },
          "metadata": {}
        }
      ],
      "source": [
        "fig, ax = plt.subplots(figsize=(5,5))\n",
        "ax.imshow(images[0]*blurred_image + images[1]*neg_blurred_image);\n",
        "ax.set_title('Hybrid image to be used as negative data');"
      ]
    },
    {
      "cell_type": "markdown",
      "metadata": {
        "id": "yoKgj-VeaJpl"
      },
      "source": [
        "## 1.2 Generating Negative Data"
      ]
    },
    {
      "cell_type": "code",
      "execution_count": 10,
      "metadata": {
        "id": "8jJ5k0KNilY2"
      },
      "outputs": [],
      "source": [
        "def generate_negative_mnist_data(X_train, y_train, n_data=60_000, key=42):\n",
        "    if isinstance(key, int):\n",
        "        key = jr.PRNGKey(key)\n",
        "\n",
        "    def _generate(_, key):\n",
        "        keys = jr.split(key, 4)\n",
        "\n",
        "        # Randomly sample a pair of digits (w/o replacement)\n",
        "        d1, d2 = jr.choice(keys[0], jnp.arange(10), (2,), replace=False)\n",
        "        ims1, ims2 = X_train[y_train], X_train[y_train]\n",
        "\n",
        "        # Randomly sample images from the chosen digits\n",
        "        indx1, indx2 = jr.choice(keys[1], ims1.shape[0]), jr.choice(keys[2], ims2.shape[0])\n",
        "        im1, im2 = ims1[indx1], ims2[indx2]\n",
        "\n",
        "        # Apply filter\n",
        "        mask = jr.randint(keys[3], (28, 28), minval=0, maxval=2).astype(float)\n",
        "        mask = apply_threshold(blur_filter(mask, n_iter=5))\n",
        "        neg_im = im1*mask + im2*(1-mask)\n",
        "\n",
        "        return neg_im, neg_im\n",
        "    \n",
        "    keys = jr.split(key, n_data)\n",
        "    carry = jnp.ones((28,28)).astype(float)\n",
        "\n",
        "    _, neg_ims = scan(_generate, carry, keys)\n",
        "\n",
        "    return neg_ims\n"
      ]
    },
    {
      "cell_type": "code",
      "execution_count": 11,
      "metadata": {
        "id": "nVjG9J_Sry2G"
      },
      "outputs": [],
      "source": [
        "neg_ims = generate_negative_mnist_data(X_train, y_train)"
      ]
    },
    {
      "cell_type": "markdown",
      "metadata": {
        "id": "Xi46KPbPry2G"
      },
      "source": [
        "Example of a negative data that's been generated:"
      ]
    },
    {
      "cell_type": "code",
      "execution_count": 12,
      "metadata": {
        "id": "4J2xqAnwry2G",
        "outputId": "6950f179-6c9e-4a18-d572-ecf99293d677",
        "colab": {
          "base_uri": "https://localhost:8080/",
          "height": 468
        }
      },
      "outputs": [
        {
          "output_type": "display_data",
          "data": {
            "text/plain": [
              "<Figure size 500x500 with 1 Axes>"
            ],
            "image/png": "[encoded data removed]"
          },
          "metadata": {}
        }
      ],
      "source": [
        "fig, ax = plt.subplots(figsize=(5,5))\n",
        "ax.imshow(neg_ims[0]);\n",
        "ax.set_title('Hybrid image to be used as negative data');"
      ]
    },
    {
      "cell_type": "code",
      "source": [
        "# Generic MNIST Dataset\n",
        "class MNISTDataset(Dataset):\n",
        "    def __init__(self, images, labels):\n",
        "        assert len(images) == len(labels)\n",
        "        self.images = images\n",
        "        self.labels = labels\n",
        "    \n",
        "    def __getitem__(self, idx):\n",
        "        return self.images[idx], self.labels[idx]\n",
        "\n",
        "    def __len__(self):\n",
        "        return len(self.images)"
      ],
      "metadata": {
        "id": "COC781P7_sZB"
      },
      "execution_count": 13,
      "outputs": []
    },
    {
      "cell_type": "code",
      "source": [
        "# Train dataloaders\n",
        "pos_train_loader = DataLoader(\n",
        "    MNISTDataset(np.array(X_train), np.ones(len(X_train))),\n",
        "    batch_size = 64,\n",
        "    shuffle = True,\n",
        ")\n",
        "neg_train_loader = DataLoader(\n",
        "    MNISTDataset(np.array(neg_ims), np.zeros(len(neg_ims))),\n",
        "    batch_size=64,\n",
        "    shuffle=True\n",
        ")\n",
        "mixed_train_loader = DataLoader(\n",
        "    MNISTDataset(\n",
        "        np.concatenate([X_train, neg_ims], axis=0),\n",
        "        np.concatenate([np.ones(len(X_train)), np.zeros(len(neg_ims))], axis=0)\n",
        "    ),\n",
        "    batch_size=64,\n",
        "    shuffle=True\n",
        ")"
      ],
      "metadata": {
        "id": "3Z1TWQFGAQFw"
      },
      "execution_count": 14,
      "outputs": []
    },
    {
      "cell_type": "markdown",
      "metadata": {
        "id": "u16R9TmNI-l1"
      },
      "source": [
        "# 2. FFA Layers"
      ]
    },
    {
      "cell_type": "code",
      "source": [
        "class SimpleLayerNorm(nn.Module):\n",
        "    epsilon: float = 1e-8\n",
        "\n",
        "    @nn.compact\n",
        "    def __call__(self, x):\n",
        "        norm = jnp.linalg.norm(x) + self.epsilon\n",
        "\n",
        "        return x / norm"
      ],
      "metadata": {
        "id": "pMdeXvYPzf5U"
      },
      "execution_count": 15,
      "outputs": []
    },
    {
      "cell_type": "code",
      "source": [
        "class FFLayer(nn.Module):\n",
        "    n_units: int = 2_000\n",
        "    activation: Callable = nn.relu\n",
        "\n",
        "    @nn.compact\n",
        "    def __call__(self, x):\n",
        "        x = SimpleLayerNorm()(x)\n",
        "        x = nn.Dense(self.n_units)(x)\n",
        "        x = self.activation(x)\n",
        "        return x"
      ],
      "metadata": {
        "id": "qw9xYxcjwisN"
      },
      "execution_count": 16,
      "outputs": []
    },
    {
      "cell_type": "code",
      "source": [
        "class FFLayers(nn.Module):\n",
        "    n_layers: int = 4\n",
        "    n_units: int = 2_000\n",
        "    activation: Callable = nn.relu\n",
        "\n",
        "    def setup(self):\n",
        "        self.layers = [\n",
        "            FFLayer(self.n_units, self.activation) for _ in range(self.n_layers)\n",
        "        ]\n",
        "\n",
        "    def __call__(self, x, layer_idx=None):\n",
        "        x = x.ravel()\n",
        "        if layer_idx is not None:\n",
        "            assert layer_idx >= 0 and layer_idx < self.n_layers\n",
        "            x = self.layers[layer_idx](x)\n",
        "        else:\n",
        "            for layer in self.layers:\n",
        "                x = layer(x)\n",
        "    \n",
        "        return x"
      ],
      "metadata": {
        "id": "dNB2dzT0r346"
      },
      "execution_count": 17,
      "outputs": []
    },
    {
      "cell_type": "code",
      "source": [
        "# Initialize FFLayer model\n",
        "model = FFLayers()\n",
        "params = model.init(jr.PRNGKey(0), X_train[0])\n",
        "flat_params, unflatten_fn = ravel_pytree(params)\n",
        "\n",
        "# Apply each layer individually\n",
        "first_layer_output = model.apply(params, X_train[0], layer_idx=0)\n",
        "second_layer_output = model.apply(params, first_layer_output, layer_idx=1)\n",
        "third_layer_output = model.apply(params, second_layer_output, layer_idx=2)\n",
        "final_layer_output = model.apply(params, third_layer_output, layer_idx=3)\n",
        "\n",
        "# Apply all layer\n",
        "output = model.apply(params, X_train[0])\n",
        "\n",
        "assert jnp.allclose(final_layer_output, output)"
      ],
      "metadata": {
        "id": "HNygMplGxG9X"
      },
      "execution_count": 18,
      "outputs": []
    },
    {
      "cell_type": "code",
      "source": [
        "def create_train_state(X, params=None, layer_idx=None, lr=1e-3, key=0):\n",
        "    if isinstance(key, int):\n",
        "        key = jr.PRNGKey(key)\n",
        "\n",
        "    model = FFLayers()\n",
        "    if params is None:\n",
        "        params = model.init(key, jnp.array(X))['params']\n",
        "    opt = optax.adam(learning_rate=lr)\n",
        "    apply_fn = lambda p, x: model.apply({\"params\": p}, x, layer_idx=layer_idx)\n",
        "    train_state = TrainState.create(apply_fn=apply_fn, params=params, tx=opt)\n",
        "\n",
        "    return train_state"
      ],
      "metadata": {
        "id": "o90bdplgFtrQ"
      },
      "execution_count": 106,
      "outputs": []
    },
    {
      "cell_type": "markdown",
      "source": [
        "# 3. Unsupervised Example"
      ],
      "metadata": {
        "id": "9uqTmJCC2FH9"
      }
    },
    {
      "cell_type": "code",
      "source": [
        "model = FFLayers()\n",
        "trainable_params = model.init(jr.PRNGKey(0), X_train[0])\n",
        "layers = trainable_params[\"params\"]\n",
        "n_epochs = 1"
      ],
      "metadata": {
        "id": "a_lvDbg3HdB0"
      },
      "execution_count": 20,
      "outputs": []
    },
    {
      "cell_type": "code",
      "source": [
        "@jit\n",
        "def unsup_train_step(train_state, batch_images, batch_labels, threshold=2.0):\n",
        "    def loss_fn(params):\n",
        "        activation = vmap(train_state.apply_fn, (None, 0))(params, batch_images)\n",
        "        logits = vmap(jnp.sum)(jnp.square(activation)).ravel() - threshold\n",
        "        loss = jnp.mean(optax.sigmoid_binary_cross_entropy(logits, batch_labels.ravel()))\n",
        "\n",
        "        return loss, logits\n",
        "    \n",
        "    (loss, logits), grads = value_and_grad(loss_fn, has_aux=True)(train_state.params)\n",
        "    accuracy = jnp.mean((logits >= 0.0) == batch_labels)\n",
        "\n",
        "    return grads, accuracy"
      ],
      "metadata": {
        "id": "sF8_9Ac4H8ba"
      },
      "execution_count": 21,
      "outputs": []
    },
    {
      "cell_type": "code",
      "execution_count": 22,
      "metadata": {
        "id": "7iefLz-_ry2I",
        "colab": {
          "base_uri": "https://localhost:8080/",
          "height": 145,
          "referenced_widgets": [
            "6d66677f1eac4adeb58fa75dfc5646e9",
            "03d9c5dad1d14e54855f5ce7b26eeda5",
            "cebe175030944a1087d0195a525ea2ac",
            "b4c880e7acb14e20a09845571ba006a7",
            "3a47acc060bd4016976af9d53f1fe234",
            "0725b5a9bef247829b7869a10aa31479",
            "ec7419bf2a5f4198b1544b748764e499",
            "7e773c6079794bb9b39112ac16bc4da0",
            "fc4cb8ebe040437b8a365d076628c885",
            "40a0782230664aa0aaa4c0235f6510a4",
            "b60a1601c31c4d01a297dfe5f52aeee5",
            "3d6d18ec2e044603bb10d50da34c8953",
            "0be969b7e10e418db8b966993236e66d",
            "d0a6c715275d4517b9a056421318e15e",
            "7d4d3e11d3744a66adbfee9aefd7e558",
            "37d136a0afde4f88acd15fb03095696e",
            "e4ae513fb20a4a8f85de9dc373f430a3",
            "0aab41484afc400fa1afb16542e00cb5",
            "c2f709754bde47e6bc5fef37e1839f0b",
            "060b8107138b4a4aaeec2902aad7edfa",
            "aec314b212364f93b977bccc0ceb6e9b",
            "ec6c714d18c6449ca7a7cda9b458e8f3",
            "a0093eeeba1544df82c06e60b347d700",
            "63be3e6671ca49dc91846978fcfb5715",
            "15f4ce9887e64693bf58bc03003d6a94",
            "b86ebe51fb844d12bf5070ba945e958d",
            "a8995f23ed874c84989a32adce3b811d",
            "27524561613a4a14a50f1b50518b35a4",
            "5051cac700f24faca0057015bc806ec2",
            "a852fa2942444679a848a9a73e6d0805",
            "18644ca1350c4f5ca5531b13d9e71b6f",
            "c961e7dc9cee45c5a87e653b72edf0b2",
            "09b7c363e41340639dcb9b83cfa0e1f7",
            "b21591d815314691a08f0bd0eff30b18",
            "d77ae8ee5b6e46cabeb098271391162a",
            "9df422a36f4b40e2a96c01fd308d2e55",
            "d8fef54c1e4c480e81173c201d60a308",
            "ddf20caeccb140f7a152ebb0dc715bc8",
            "bb44caac52f34a93a0cdb90d27c0f1dc",
            "87ea59d019364a8fa5b074f27fba43e4",
            "72d910747a4844fbb37fe51b5916ab09",
            "109bde3540f745d4ac2fa1807f98dbca",
            "6e4894da2dcc43f9a2362ae9ef0b441d",
            "72c5c900a83f46c296d8e86e47a66799"
          ]
        },
        "outputId": "00fda723-ba01-43cc-f33c-a13a1cbc44ab"
      },
      "outputs": [
        {
          "output_type": "display_data",
          "data": {
            "text/plain": [
              "Layer 0/4: Epoch 1/1: Average Accauracy: 0.0:   0%|          | 0/1875 [00:00<?, ?it/s]"
            ],
            "application/vnd.jupyter.widget-view+json": {
              "version_major": 2,
              "version_minor": 0,
              "model_id": "6d66677f1eac4adeb58fa75dfc5646e9"
            }
          },
          "metadata": {}
        },
        {
          "output_type": "display_data",
          "data": {
            "text/plain": [
              "Layer 1/4: Epoch 1/1: Average Accauracy: 0.0:   0%|          | 0/1875 [00:00<?, ?it/s]"
            ],
            "application/vnd.jupyter.widget-view+json": {
              "version_major": 2,
              "version_minor": 0,
              "model_id": "3d6d18ec2e044603bb10d50da34c8953"
            }
          },
          "metadata": {}
        },
        {
          "output_type": "display_data",
          "data": {
            "text/plain": [
              "Layer 2/4: Epoch 1/1: Average Accauracy: 0.0:   0%|          | 0/1875 [00:00<?, ?it/s]"
            ],
            "application/vnd.jupyter.widget-view+json": {
              "version_major": 2,
              "version_minor": 0,
              "model_id": "a0093eeeba1544df82c06e60b347d700"
            }
          },
          "metadata": {}
        },
        {
          "output_type": "display_data",
          "data": {
            "text/plain": [
              "Layer 3/4: Epoch 1/1: Average Accauracy: 0.0:   0%|          | 0/1875 [00:00<?, ?it/s]"
            ],
            "application/vnd.jupyter.widget-view+json": {
              "version_major": 2,
              "version_minor": 0,
              "model_id": "b21591d815314691a08f0bd0eff30b18"
            }
          },
          "metadata": {}
        }
      ],
      "source": [
        "# Train each layer, starting from the first layer\n",
        "prev_params = None\n",
        "train_states = []\n",
        "\n",
        "for i, _ in enumerate(layers):\n",
        "    train_state = create_train_state(X_train[0], prev_params, i)\n",
        "\n",
        "    for epoch in range(n_epochs):\n",
        "        accs = []\n",
        "        pbar = tqdm(enumerate(mixed_train_loader), total=len(mixed_train_loader),\n",
        "                    desc = f\"Layer {i}/{len(layers)}: Epoch {epoch}/{n_epochs}: Average Accauracy: 0.0\")\n",
        "        for k, (batch_images, batch_labels) in pbar:\n",
        "            batch_images, batch_labels = jnp.array(batch_images), jnp.array(batch_labels)\n",
        "            output = batch_images\n",
        "            for prev_state in train_states:\n",
        "                # Pass through previous (trained) layers\n",
        "                output = vmap(prev_state.apply_fn, (None, 0))(prev_state.params, output)\n",
        "            updates, accuracy = unsup_train_step(train_state, output, batch_labels)\n",
        "            accs.append(accuracy)\n",
        "            train_state = train_state.apply_gradients(grads=updates)\n",
        "\n",
        "            if k % 100 == 0:\n",
        "                pbar.set_description(f\"Layer {i}/{len(layers)}: Epoch {epoch}/{n_epochs}: Average Accauracy: {jnp.mean(jnp.array(accs))}\")\n",
        "    prev_params = train_state.params\n",
        "    train_states.append(train_state)"
      ]
    },
    {
      "cell_type": "code",
      "source": [
        "# Test to make sure the training worked on all layers\n",
        "img, lbl = next(iter(mixed_train_loader))\n",
        "img, lbl = jnp.array(img), jnp.array(lbl)\n",
        "\n",
        "st = train_states[-1]\n",
        "\n",
        "model = FFLayers()\n",
        "def apply_fn(p, x, i):\n",
        "    for j in range(i+1):\n",
        "        x = model.apply({\"params\": p}, x, layer_idx=j)\n",
        "    \n",
        "    return x\n",
        "\n",
        "threshold = 2.0\n",
        "for i in range(4):\n",
        "    activation = vmap(apply_fn, (None, 0, None))(st.params, img, i)\n",
        "    logits = vmap(jnp.sum)(jnp.square(activation)).ravel() - threshold\n",
        "    y_preds = (logits > 0).astype(float)\n",
        "\n",
        "    assert (y_preds - lbl).mean() < 0.05"
      ],
      "metadata": {
        "id": "uNrwggWYGG0G"
      },
      "execution_count": 102,
      "outputs": []
    },
    {
      "cell_type": "code",
      "source": [
        "# Function to generate inputs to linear classifier\n",
        "def transform_input(x, train_state):\n",
        "    transformed_input = []\n",
        "    for i in range(1, len(train_state.params)):\n",
        "        activation = apply_fn(train_state.params, x, i)\n",
        "        transformed_input.append(activation)\n",
        "    transformed_input = jnp.array(transformed_input).ravel()\n",
        "\n",
        "    return transformed_input"
      ],
      "metadata": {
        "id": "fHA20l2iwRZx"
      },
      "execution_count": 103,
      "outputs": []
    },
    {
      "cell_type": "code",
      "source": [
        "# Transform train and test sets\n",
        "X_tr_train, X_tr_test = \\\n",
        "    vmap(transform_input, (0, None))(X_train, st), vmap(transform_input, (0, None))(X_test, st)"
      ],
      "metadata": {
        "id": "-ZQLHs6CzyVy"
      },
      "execution_count": 104,
      "outputs": []
    },
    {
      "cell_type": "code",
      "source": [
        "tr_train_loader = DataLoader(\n",
        "    MNISTDataset(np.array(X_tr_train), np.array(y_train)),\n",
        "    batch_size = 64,\n",
        "    shuffle = True,\n",
        ")"
      ],
      "metadata": {
        "id": "REKhS3ZV374B"
      },
      "execution_count": 135,
      "outputs": []
    },
    {
      "cell_type": "code",
      "source": [
        "# Final layer of linear classifier\n",
        "class LinearClassifier(nn.Module):\n",
        "    n_outputs: int\n",
        "\n",
        "    @nn.compact\n",
        "    def __call__(self, x):\n",
        "        x = nn.Dense(self.n_outputs)(x)\n",
        "\n",
        "        return x"
      ],
      "metadata": {
        "id": "dLvS-yP9u2Ik"
      },
      "execution_count": 112,
      "outputs": []
    },
    {
      "cell_type": "code",
      "source": [
        "# Supervised learning training\n",
        "def create_lin_clf_train_state(X, n_outputs=10, lr=1e-3, key=0):\n",
        "    if isinstance(key, int):\n",
        "        key = jr.PRNGKey(key)\n",
        "\n",
        "    clf = LinearClassifier(n_outputs)\n",
        "    params = clf.init(key, jnp.array(X))\n",
        "    opt = optax.adam(learning_rate=lr)\n",
        "    train_state = TrainState.create(apply_fn=clf.apply, params=params, tx=opt)\n",
        "\n",
        "    return train_state"
      ],
      "metadata": {
        "id": "gH5sZciRvzdi"
      },
      "execution_count": 129,
      "outputs": []
    },
    {
      "cell_type": "code",
      "source": [
        "@jit\n",
        "def clf_train_step(train_state, batch_images, batch_labels):\n",
        "    def loss_fn(params):\n",
        "        logits = vmap(train_state.apply_fn, (None, 0))(params, batch_images)\n",
        "        loss = jnp.mean(optax.softmax_cross_entropy_with_integer_labels(logits=logits, labels=batch_labels))\n",
        "\n",
        "        return loss, logits\n",
        "\n",
        "    grad_fn = jax.value_and_grad(loss_fn, has_aux=True)\n",
        "    (loss, logits), grads = grad_fn(train_state.params)\n",
        "    accuracy = jnp.mean(jnp.argmax(logits, -1) == batch_labels)\n",
        "    \n",
        "    return grads, accuracy"
      ],
      "metadata": {
        "id": "Kenwj2Oo3wNK"
      },
      "execution_count": 139,
      "outputs": []
    },
    {
      "cell_type": "code",
      "source": [
        "n_epochs = 1\n",
        "clf_state = create_lin_clf_train_state(X_tr_train[0])\n",
        "\n",
        "for epoch in range(n_epochs):\n",
        "    accs = []\n",
        "    pbar = tqdm(enumerate(tr_train_loader), total=len(tr_train_loader),\n",
        "                desc = f\"Epoch {epoch}/{n_epochs}: Average Accuracy: 0.0\")\n",
        "    for j, (batch_images, batch_labels) in pbar:\n",
        "        batch_images, batch_labels = jnp.array(batch_images), jnp.array(batch_labels)\n",
        "        updates, accuracy = clf_train_step(clf_state, batch_images, batch_labels)\n",
        "        accs.append(accuracy)\n",
        "        clf_state = clf_state.apply_gradients(grads=updates)\n",
        "\n",
        "        if j % 100 == 0:\n",
        "            pbar.set_description(f\"Epoch {epoch}/{n_epochs}: Average Accauracy: {jnp.mean(jnp.array(accs))}\")"
      ],
      "metadata": {
        "id": "D85fG8hv4v7Y",
        "outputId": "5a6229bf-3702-4945-e4f4-59cabb3be884",
        "colab": {
          "base_uri": "https://localhost:8080/",
          "height": 49,
          "referenced_widgets": [
            "38b4af380c80497cbea31cada61e5c55",
            "6466434bf774405f868a5c3764734b54",
            "b0e67b06362d4f0e8bb3d1365f5a7607",
            "63a342c9e86e4c37a53218aada55c179",
            "f839bb9a015b49e09f526778b1c42808",
            "b55b88e910c14ca49bca4f927448c4fc",
            "bfc53a8c5ad7405786f1497af88ec810",
            "a0034c906d804a65b631a91b25996f16",
            "58c09e46bd614c478bfaefd7ec86bead",
            "90238bfeef4449f8a0df8be156223185",
            "e953b444ec5a435bba3b9d4703c64f69"
          ]
        }
      },
      "execution_count": 140,
      "outputs": [
        {
          "output_type": "display_data",
          "data": {
            "text/plain": [
              "Epoch 0/1: Average Accuracy: 0.0:   0%|          | 0/938 [00:00<?, ?it/s]"
            ],
            "application/vnd.jupyter.widget-view+json": {
              "version_major": 2,
              "version_minor": 0,
              "model_id": "38b4af380c80497cbea31cada61e5c55"
            }
          },
          "metadata": {}
        }
      ]
    },
    {
      "cell_type": "code",
      "source": [
        "# Evaluate\n",
        "logits = vmap(clf_state.apply_fn, (None, 0))(clf_state.params, X_tr_test)\n",
        "y_preds = jnp.argmax(logits, -1)\n",
        "\n",
        "test_miscl = jnp.mean(y_test != y_preds)\n",
        "print(f\"Test set misclassification rate: {test_miscl}\")"
      ],
      "metadata": {
        "id": "5-jNIllE6C3d",
        "outputId": "e500d9bb-316e-405a-af09-1e10d23b8111",
        "colab": {
          "base_uri": "https://localhost:8080/"
        }
      },
      "execution_count": 151,
      "outputs": [
        {
          "output_type": "stream",
          "name": "stdout",
          "text": [
            "Test set misclassification rate: 0.5206999778747559\n"
          ]
        }
      ]
    }
  ],
  "metadata": {
    "colab": {
      "provenance": [],
      "machine_shape": "hm"
    },
    "kernelspec": {
      "display_name": ".venv",
      "language": "python",
      "name": "python3"
    },
    "language_info": {
      "codemirror_mode": {
        "name": "ipython",
        "version": 3
      },
      "file_extension": ".py",
      "mimetype": "text/x-python",
      "name": "python",
      "nbconvert_exporter": "python",
      "pygments_lexer": "ipython3",
      "version": "3.10.6"
    },
    "vscode": {
      "interpreter": {
        "hash": "e7d60e9937a2738af5d27790d36bbe0a2dd7dbc359090836443a0b7cf74d90cb"
      }
    },
    "widgets": {
      "application/vnd.jupyter.widget-state+json": {
        "6d66677f1eac4adeb58fa75dfc5646e9": {
          "model_module": "@jupyter-widgets/controls",
          "model_name": "HBoxModel",
          "model_module_version": "1.5.0",
          "state": {
            "_dom_classes": [],
            "_model_module": "@jupyter-widgets/controls",
            "_model_module_version": "1.5.0",
            "_model_name": "HBoxModel",
            "_view_count": null,
            "_view_module": "@jupyter-widgets/controls",
            "_view_module_version": "1.5.0",
            "_view_name": "HBoxView",
            "box_style": "",
            "children": [
              "IPY_MODEL_03d9c5dad1d14e54855f5ce7b26eeda5",
              "IPY_MODEL_cebe175030944a1087d0195a525ea2ac",
              "IPY_MODEL_b4c880e7acb14e20a09845571ba006a7"
            ],
            "layout": "IPY_MODEL_3a47acc060bd4016976af9d53f1fe234"
          }
        },
        "03d9c5dad1d14e54855f5ce7b26eeda5": {
          "model_module": "@jupyter-widgets/controls",
          "model_name": "HTMLModel",
          "model_module_version": "1.5.0",
          "state": {
            "_dom_classes": [],
            "_model_module": "@jupyter-widgets/controls",
            "_model_module_version": "1.5.0",
            "_model_name": "HTMLModel",
            "_view_count": null,
            "_view_module": "@jupyter-widgets/controls",
            "_view_module_version": "1.5.0",
            "_view_name": "HTMLView",
            "description": "",
            "description_tooltip": null,
            "layout": "IPY_MODEL_0725b5a9bef247829b7869a10aa31479",
            "placeholder": "​",
            "style": "IPY_MODEL_ec7419bf2a5f4198b1544b748764e499",
            "value": "Layer 0/4: Epoch 0/1: Average Accauracy: 0.9943346977233887: 100%"
          }
        },
        "cebe175030944a1087d0195a525ea2ac": {
          "model_module": "@jupyter-widgets/controls",
          "model_name": "FloatProgressModel",
          "model_module_version": "1.5.0",
          "state": {
            "_dom_classes": [],
            "_model_module": "@jupyter-widgets/controls",
            "_model_module_version": "1.5.0",
            "_model_name": "FloatProgressModel",
            "_view_count": null,
            "_view_module": "@jupyter-widgets/controls",
            "_view_module_version": "1.5.0",
            "_view_name": "ProgressView",
            "bar_style": "success",
            "description": "",
            "description_tooltip": null,
            "layout": "IPY_MODEL_7e773c6079794bb9b39112ac16bc4da0",
            "max": 1875,
            "min": 0,
            "orientation": "horizontal",
            "style": "IPY_MODEL_fc4cb8ebe040437b8a365d076628c885",
            "value": 1875
          }
        },
        "b4c880e7acb14e20a09845571ba006a7": {
          "model_module": "@jupyter-widgets/controls",
          "model_name": "HTMLModel",
          "model_module_version": "1.5.0",
          "state": {
            "_dom_classes": [],
            "_model_module": "@jupyter-widgets/controls",
            "_model_module_version": "1.5.0",
            "_model_name": "HTMLModel",
            "_view_count": null,
            "_view_module": "@jupyter-widgets/controls",
            "_view_module_version": "1.5.0",
            "_view_name": "HTMLView",
            "description": "",
            "description_tooltip": null,
            "layout": "IPY_MODEL_40a0782230664aa0aaa4c0235f6510a4",
            "placeholder": "​",
            "style": "IPY_MODEL_b60a1601c31c4d01a297dfe5f52aeee5",
            "value": " 1875/1875 [01:12&lt;00:00, 33.07it/s]"
          }
        },
        "3a47acc060bd4016976af9d53f1fe234": {
          "model_module": "@jupyter-widgets/base",
          "model_name": "LayoutModel",
          "model_module_version": "1.2.0",
          "state": {
            "_model_module": "@jupyter-widgets/base",
            "_model_module_version": "1.2.0",
            "_model_name": "LayoutModel",
            "_view_count": null,
            "_view_module": "@jupyter-widgets/base",
            "_view_module_version": "1.2.0",
            "_view_name": "LayoutView",
            "align_content": null,
            "align_items": null,
            "align_self": null,
            "border": null,
            "bottom": null,
            "display": null,
            "flex": null,
            "flex_flow": null,
            "grid_area": null,
            "grid_auto_columns": null,
            "grid_auto_flow": null,
            "grid_auto_rows": null,
            "grid_column": null,
            "grid_gap": null,
            "grid_row": null,
            "grid_template_areas": null,
            "grid_template_columns": null,
            "grid_template_rows": null,
            "height": null,
            "justify_content": null,
            "justify_items": null,
            "left": null,
            "margin": null,
            "max_height": null,
            "max_width": null,
            "min_height": null,
            "min_width": null,
            "object_fit": null,
            "object_position": null,
            "order": null,
            "overflow": null,
            "overflow_x": null,
            "overflow_y": null,
            "padding": null,
            "right": null,
            "top": null,
            "visibility": null,
            "width": null
          }
        },
        "0725b5a9bef247829b7869a10aa31479": {
          "model_module": "@jupyter-widgets/base",
          "model_name": "LayoutModel",
          "model_module_version": "1.2.0",
          "state": {
            "_model_module": "@jupyter-widgets/base",
            "_model_module_version": "1.2.0",
            "_model_name": "LayoutModel",
            "_view_count": null,
            "_view_module": "@jupyter-widgets/base",
            "_view_module_version": "1.2.0",
            "_view_name": "LayoutView",
            "align_content": null,
            "align_items": null,
            "align_self": null,
            "border": null,
            "bottom": null,
            "display": null,
            "flex": null,
            "flex_flow": null,
            "grid_area": null,
            "grid_auto_columns": null,
            "grid_auto_flow": null,
            "grid_auto_rows": null,
            "grid_column": null,
            "grid_gap": null,
            "grid_row": null,
            "grid_template_areas": null,
            "grid_template_columns": null,
            "grid_template_rows": null,
            "height": null,
            "justify_content": null,
            "justify_items": null,
            "left": null,
            "margin": null,
            "max_height": null,
            "max_width": null,
            "min_height": null,
            "min_width": null,
            "object_fit": null,
            "object_position": null,
            "order": null,
            "overflow": null,
            "overflow_x": null,
            "overflow_y": null,
            "padding": null,
            "right": null,
            "top": null,
            "visibility": null,
            "width": null
          }
        },
        "ec7419bf2a5f4198b1544b748764e499": {
          "model_module": "@jupyter-widgets/controls",
          "model_name": "DescriptionStyleModel",
          "model_module_version": "1.5.0",
          "state": {
            "_model_module": "@jupyter-widgets/controls",
            "_model_module_version": "1.5.0",
            "_model_name": "DescriptionStyleModel",
            "_view_count": null,
            "_view_module": "@jupyter-widgets/base",
            "_view_module_version": "1.2.0",
            "_view_name": "StyleView",
            "description_width": ""
          }
        },
        "7e773c6079794bb9b39112ac16bc4da0": {
          "model_module": "@jupyter-widgets/base",
          "model_name": "LayoutModel",
          "model_module_version": "1.2.0",
          "state": {
            "_model_module": "@jupyter-widgets/base",
            "_model_module_version": "1.2.0",
            "_model_name": "LayoutModel",
            "_view_count": null,
            "_view_module": "@jupyter-widgets/base",
            "_view_module_version": "1.2.0",
            "_view_name": "LayoutView",
            "align_content": null,
            "align_items": null,
            "align_self": null,
            "border": null,
            "bottom": null,
            "display": null,
            "flex": null,
            "flex_flow": null,
            "grid_area": null,
            "grid_auto_columns": null,
            "grid_auto_flow": null,
            "grid_auto_rows": null,
            "grid_column": null,
            "grid_gap": null,
            "grid_row": null,
            "grid_template_areas": null,
            "grid_template_columns": null,
            "grid_template_rows": null,
            "height": null,
            "justify_content": null,
            "justify_items": null,
            "left": null,
            "margin": null,
            "max_height": null,
            "max_width": null,
            "min_height": null,
            "min_width": null,
            "object_fit": null,
            "object_position": null,
            "order": null,
            "overflow": null,
            "overflow_x": null,
            "overflow_y": null,
            "padding": null,
            "right": null,
            "top": null,
            "visibility": null,
            "width": null
          }
        },
        "fc4cb8ebe040437b8a365d076628c885": {
          "model_module": "@jupyter-widgets/controls",
          "model_name": "ProgressStyleModel",
          "model_module_version": "1.5.0",
          "state": {
            "_model_module": "@jupyter-widgets/controls",
            "_model_module_version": "1.5.0",
            "_model_name": "ProgressStyleModel",
            "_view_count": null,
            "_view_module": "@jupyter-widgets/base",
            "_view_module_version": "1.2.0",
            "_view_name": "StyleView",
            "bar_color": null,
            "description_width": ""
          }
        },
        "40a0782230664aa0aaa4c0235f6510a4": {
          "model_module": "@jupyter-widgets/base",
          "model_name": "LayoutModel",
          "model_module_version": "1.2.0",
          "state": {
            "_model_module": "@jupyter-widgets/base",
            "_model_module_version": "1.2.0",
            "_model_name": "LayoutModel",
            "_view_count": null,
            "_view_module": "@jupyter-widgets/base",
            "_view_module_version": "1.2.0",
            "_view_name": "LayoutView",
            "align_content": null,
            "align_items": null,
            "align_self": null,
            "border": null,
            "bottom": null,
            "display": null,
            "flex": null,
            "flex_flow": null,
            "grid_area": null,
            "grid_auto_columns": null,
            "grid_auto_flow": null,
            "grid_auto_rows": null,
            "grid_column": null,
            "grid_gap": null,
            "grid_row": null,
            "grid_template_areas": null,
            "grid_template_columns": null,
            "grid_template_rows": null,
            "height": null,
            "justify_content": null,
            "justify_items": null,
            "left": null,
            "margin": null,
            "max_height": null,
            "max_width": null,
            "min_height": null,
            "min_width": null,
            "object_fit": null,
            "object_position": null,
            "order": null,
            "overflow": null,
            "overflow_x": null,
            "overflow_y": null,
            "padding": null,
            "right": null,
            "top": null,
            "visibility": null,
            "width": null
          }
        },
        "b60a1601c31c4d01a297dfe5f52aeee5": {
          "model_module": "@jupyter-widgets/controls",
          "model_name": "DescriptionStyleModel",
          "model_module_version": "1.5.0",
          "state": {
            "_model_module": "@jupyter-widgets/controls",
            "_model_module_version": "1.5.0",
            "_model_name": "DescriptionStyleModel",
            "_view_count": null,
            "_view_module": "@jupyter-widgets/base",
            "_view_module_version": "1.2.0",
            "_view_name": "StyleView",
            "description_width": ""
          }
        },
        "3d6d18ec2e044603bb10d50da34c8953": {
          "model_module": "@jupyter-widgets/controls",
          "model_name": "HBoxModel",
          "model_module_version": "1.5.0",
          "state": {
            "_dom_classes": [],
            "_model_module": "@jupyter-widgets/controls",
            "_model_module_version": "1.5.0",
            "_model_name": "HBoxModel",
            "_view_count": null,
            "_view_module": "@jupyter-widgets/controls",
            "_view_module_version": "1.5.0",
            "_view_name": "HBoxView",
            "box_style": "",
            "children": [
              "IPY_MODEL_0be969b7e10e418db8b966993236e66d",
              "IPY_MODEL_d0a6c715275d4517b9a056421318e15e",
              "IPY_MODEL_7d4d3e11d3744a66adbfee9aefd7e558"
            ],
            "layout": "IPY_MODEL_37d136a0afde4f88acd15fb03095696e"
          }
        },
        "0be969b7e10e418db8b966993236e66d": {
          "model_module": "@jupyter-widgets/controls",
          "model_name": "HTMLModel",
          "model_module_version": "1.5.0",
          "state": {
            "_dom_classes": [],
            "_model_module": "@jupyter-widgets/controls",
            "_model_module_version": "1.5.0",
            "_model_name": "HTMLModel",
            "_view_count": null,
            "_view_module": "@jupyter-widgets/controls",
            "_view_module_version": "1.5.0",
            "_view_name": "HTMLView",
            "description": "",
            "description_tooltip": null,
            "layout": "IPY_MODEL_e4ae513fb20a4a8f85de9dc373f430a3",
            "placeholder": "​",
            "style": "IPY_MODEL_0aab41484afc400fa1afb16542e00cb5",
            "value": "Layer 1/4: Epoch 0/1: Average Accauracy: 0.9965556859970093: 100%"
          }
        },
        "d0a6c715275d4517b9a056421318e15e": {
          "model_module": "@jupyter-widgets/controls",
          "model_name": "FloatProgressModel",
          "model_module_version": "1.5.0",
          "state": {
            "_dom_classes": [],
            "_model_module": "@jupyter-widgets/controls",
            "_model_module_version": "1.5.0",
            "_model_name": "FloatProgressModel",
            "_view_count": null,
            "_view_module": "@jupyter-widgets/controls",
            "_view_module_version": "1.5.0",
            "_view_name": "ProgressView",
            "bar_style": "success",
            "description": "",
            "description_tooltip": null,
            "layout": "IPY_MODEL_c2f709754bde47e6bc5fef37e1839f0b",
            "max": 1875,
            "min": 0,
            "orientation": "horizontal",
            "style": "IPY_MODEL_060b8107138b4a4aaeec2902aad7edfa",
            "value": 1875
          }
        },
        "7d4d3e11d3744a66adbfee9aefd7e558": {
          "model_module": "@jupyter-widgets/controls",
          "model_name": "HTMLModel",
          "model_module_version": "1.5.0",
          "state": {
            "_dom_classes": [],
            "_model_module": "@jupyter-widgets/controls",
            "_model_module_version": "1.5.0",
            "_model_name": "HTMLModel",
            "_view_count": null,
            "_view_module": "@jupyter-widgets/controls",
            "_view_module_version": "1.5.0",
            "_view_name": "HTMLView",
            "description": "",
            "description_tooltip": null,
            "layout": "IPY_MODEL_aec314b212364f93b977bccc0ceb6e9b",
            "placeholder": "​",
            "style": "IPY_MODEL_ec6c714d18c6449ca7a7cda9b458e8f3",
            "value": " 1875/1875 [01:34&lt;00:00, 21.60it/s]"
          }
        },
        "37d136a0afde4f88acd15fb03095696e": {
          "model_module": "@jupyter-widgets/base",
          "model_name": "LayoutModel",
          "model_module_version": "1.2.0",
          "state": {
            "_model_module": "@jupyter-widgets/base",
            "_model_module_version": "1.2.0",
            "_model_name": "LayoutModel",
            "_view_count": null,
            "_view_module": "@jupyter-widgets/base",
            "_view_module_version": "1.2.0",
            "_view_name": "LayoutView",
            "align_content": null,
            "align_items": null,
            "align_self": null,
            "border": null,
            "bottom": null,
            "display": null,
            "flex": null,
            "flex_flow": null,
            "grid_area": null,
            "grid_auto_columns": null,
            "grid_auto_flow": null,
            "grid_auto_rows": null,
            "grid_column": null,
            "grid_gap": null,
            "grid_row": null,
            "grid_template_areas": null,
            "grid_template_columns": null,
            "grid_template_rows": null,
            "height": null,
            "justify_content": null,
            "justify_items": null,
            "left": null,
            "margin": null,
            "max_height": null,
            "max_width": null,
            "min_height": null,
            "min_width": null,
            "object_fit": null,
            "object_position": null,
            "order": null,
            "overflow": null,
            "overflow_x": null,
            "overflow_y": null,
            "padding": null,
            "right": null,
            "top": null,
            "visibility": null,
            "width": null
          }
        },
        "e4ae513fb20a4a8f85de9dc373f430a3": {
          "model_module": "@jupyter-widgets/base",
          "model_name": "LayoutModel",
          "model_module_version": "1.2.0",
          "state": {
            "_model_module": "@jupyter-widgets/base",
            "_model_module_version": "1.2.0",
            "_model_name": "LayoutModel",
            "_view_count": null,
            "_view_module": "@jupyter-widgets/base",
            "_view_module_version": "1.2.0",
            "_view_name": "LayoutView",
            "align_content": null,
            "align_items": null,
            "align_self": null,
            "border": null,
            "bottom": null,
            "display": null,
            "flex": null,
            "flex_flow": null,
            "grid_area": null,
            "grid_auto_columns": null,
            "grid_auto_flow": null,
            "grid_auto_rows": null,
            "grid_column": null,
            "grid_gap": null,
            "grid_row": null,
            "grid_template_areas": null,
            "grid_template_columns": null,
            "grid_template_rows": null,
            "height": null,
            "justify_content": null,
            "justify_items": null,
            "left": null,
            "margin": null,
            "max_height": null,
            "max_width": null,
            "min_height": null,
            "min_width": null,
            "object_fit": null,
            "object_position": null,
            "order": null,
            "overflow": null,
            "overflow_x": null,
            "overflow_y": null,
            "padding": null,
            "right": null,
            "top": null,
            "visibility": null,
            "width": null
          }
        },
        "0aab41484afc400fa1afb16542e00cb5": {
          "model_module": "@jupyter-widgets/controls",
          "model_name": "DescriptionStyleModel",
          "model_module_version": "1.5.0",
          "state": {
            "_model_module": "@jupyter-widgets/controls",
            "_model_module_version": "1.5.0",
            "_model_name": "DescriptionStyleModel",
            "_view_count": null,
            "_view_module": "@jupyter-widgets/base",
            "_view_module_version": "1.2.0",
            "_view_name": "StyleView",
            "description_width": ""
          }
        },
        "c2f709754bde47e6bc5fef37e1839f0b": {
          "model_module": "@jupyter-widgets/base",
          "model_name": "LayoutModel",
          "model_module_version": "1.2.0",
          "state": {
            "_model_module": "@jupyter-widgets/base",
            "_model_module_version": "1.2.0",
            "_model_name": "LayoutModel",
            "_view_count": null,
            "_view_module": "@jupyter-widgets/base",
            "_view_module_version": "1.2.0",
            "_view_name": "LayoutView",
            "align_content": null,
            "align_items": null,
            "align_self": null,
            "border": null,
            "bottom": null,
            "display": null,
            "flex": null,
            "flex_flow": null,
            "grid_area": null,
            "grid_auto_columns": null,
            "grid_auto_flow": null,
            "grid_auto_rows": null,
            "grid_column": null,
            "grid_gap": null,
            "grid_row": null,
            "grid_template_areas": null,
            "grid_template_columns": null,
            "grid_template_rows": null,
            "height": null,
            "justify_content": null,
            "justify_items": null,
            "left": null,
            "margin": null,
            "max_height": null,
            "max_width": null,
            "min_height": null,
            "min_width": null,
            "object_fit": null,
            "object_position": null,
            "order": null,
            "overflow": null,
            "overflow_x": null,
            "overflow_y": null,
            "padding": null,
            "right": null,
            "top": null,
            "visibility": null,
            "width": null
          }
        },
        "060b8107138b4a4aaeec2902aad7edfa": {
          "model_module": "@jupyter-widgets/controls",
          "model_name": "ProgressStyleModel",
          "model_module_version": "1.5.0",
          "state": {
            "_model_module": "@jupyter-widgets/controls",
            "_model_module_version": "1.5.0",
            "_model_name": "ProgressStyleModel",
            "_view_count": null,
            "_view_module": "@jupyter-widgets/base",
            "_view_module_version": "1.2.0",
            "_view_name": "StyleView",
            "bar_color": null,
            "description_width": ""
          }
        },
        "aec314b212364f93b977bccc0ceb6e9b": {
          "model_module": "@jupyter-widgets/base",
          "model_name": "LayoutModel",
          "model_module_version": "1.2.0",
          "state": {
            "_model_module": "@jupyter-widgets/base",
            "_model_module_version": "1.2.0",
            "_model_name": "LayoutModel",
            "_view_count": null,
            "_view_module": "@jupyter-widgets/base",
            "_view_module_version": "1.2.0",
            "_view_name": "LayoutView",
            "align_content": null,
            "align_items": null,
            "align_self": null,
            "border": null,
            "bottom": null,
            "display": null,
            "flex": null,
            "flex_flow": null,
            "grid_area": null,
            "grid_auto_columns": null,
            "grid_auto_flow": null,
            "grid_auto_rows": null,
            "grid_column": null,
            "grid_gap": null,
            "grid_row": null,
            "grid_template_areas": null,
            "grid_template_columns": null,
            "grid_template_rows": null,
            "height": null,
            "justify_content": null,
            "justify_items": null,
            "left": null,
            "margin": null,
            "max_height": null,
            "max_width": null,
            "min_height": null,
            "min_width": null,
            "object_fit": null,
            "object_position": null,
            "order": null,
            "overflow": null,
            "overflow_x": null,
            "overflow_y": null,
            "padding": null,
            "right": null,
            "top": null,
            "visibility": null,
            "width": null
          }
        },
        "ec6c714d18c6449ca7a7cda9b458e8f3": {
          "model_module": "@jupyter-widgets/controls",
          "model_name": "DescriptionStyleModel",
          "model_module_version": "1.5.0",
          "state": {
            "_model_module": "@jupyter-widgets/controls",
            "_model_module_version": "1.5.0",
            "_model_name": "DescriptionStyleModel",
            "_view_count": null,
            "_view_module": "@jupyter-widgets/base",
            "_view_module_version": "1.2.0",
            "_view_name": "StyleView",
            "description_width": ""
          }
        },
        "a0093eeeba1544df82c06e60b347d700": {
          "model_module": "@jupyter-widgets/controls",
          "model_name": "HBoxModel",
          "model_module_version": "1.5.0",
          "state": {
            "_dom_classes": [],
            "_model_module": "@jupyter-widgets/controls",
            "_model_module_version": "1.5.0",
            "_model_name": "HBoxModel",
            "_view_count": null,
            "_view_module": "@jupyter-widgets/controls",
            "_view_module_version": "1.5.0",
            "_view_name": "HBoxView",
            "box_style": "",
            "children": [
              "IPY_MODEL_63be3e6671ca49dc91846978fcfb5715",
              "IPY_MODEL_15f4ce9887e64693bf58bc03003d6a94",
              "IPY_MODEL_b86ebe51fb844d12bf5070ba945e958d"
            ],
            "layout": "IPY_MODEL_a8995f23ed874c84989a32adce3b811d"
          }
        },
        "63be3e6671ca49dc91846978fcfb5715": {
          "model_module": "@jupyter-widgets/controls",
          "model_name": "HTMLModel",
          "model_module_version": "1.5.0",
          "state": {
            "_dom_classes": [],
            "_model_module": "@jupyter-widgets/controls",
            "_model_module_version": "1.5.0",
            "_model_name": "HTMLModel",
            "_view_count": null,
            "_view_module": "@jupyter-widgets/controls",
            "_view_module_version": "1.5.0",
            "_view_name": "HTMLView",
            "description": "",
            "description_tooltip": null,
            "layout": "IPY_MODEL_27524561613a4a14a50f1b50518b35a4",
            "placeholder": "​",
            "style": "IPY_MODEL_5051cac700f24faca0057015bc806ec2",
            "value": "Layer 2/4: Epoch 0/1: Average Accauracy: 0.9947424530982971: 100%"
          }
        },
        "15f4ce9887e64693bf58bc03003d6a94": {
          "model_module": "@jupyter-widgets/controls",
          "model_name": "FloatProgressModel",
          "model_module_version": "1.5.0",
          "state": {
            "_dom_classes": [],
            "_model_module": "@jupyter-widgets/controls",
            "_model_module_version": "1.5.0",
            "_model_name": "FloatProgressModel",
            "_view_count": null,
            "_view_module": "@jupyter-widgets/controls",
            "_view_module_version": "1.5.0",
            "_view_name": "ProgressView",
            "bar_style": "success",
            "description": "",
            "description_tooltip": null,
            "layout": "IPY_MODEL_a852fa2942444679a848a9a73e6d0805",
            "max": 1875,
            "min": 0,
            "orientation": "horizontal",
            "style": "IPY_MODEL_18644ca1350c4f5ca5531b13d9e71b6f",
            "value": 1875
          }
        },
        "b86ebe51fb844d12bf5070ba945e958d": {
          "model_module": "@jupyter-widgets/controls",
          "model_name": "HTMLModel",
          "model_module_version": "1.5.0",
          "state": {
            "_dom_classes": [],
            "_model_module": "@jupyter-widgets/controls",
            "_model_module_version": "1.5.0",
            "_model_name": "HTMLModel",
            "_view_count": null,
            "_view_module": "@jupyter-widgets/controls",
            "_view_module_version": "1.5.0",
            "_view_name": "HTMLView",
            "description": "",
            "description_tooltip": null,
            "layout": "IPY_MODEL_c961e7dc9cee45c5a87e653b72edf0b2",
            "placeholder": "​",
            "style": "IPY_MODEL_09b7c363e41340639dcb9b83cfa0e1f7",
            "value": " 1875/1875 [02:08&lt;00:00, 15.47it/s]"
          }
        },
        "a8995f23ed874c84989a32adce3b811d": {
          "model_module": "@jupyter-widgets/base",
          "model_name": "LayoutModel",
          "model_module_version": "1.2.0",
          "state": {
            "_model_module": "@jupyter-widgets/base",
            "_model_module_version": "1.2.0",
            "_model_name": "LayoutModel",
            "_view_count": null,
            "_view_module": "@jupyter-widgets/base",
            "_view_module_version": "1.2.0",
            "_view_name": "LayoutView",
            "align_content": null,
            "align_items": null,
            "align_self": null,
            "border": null,
            "bottom": null,
            "display": null,
            "flex": null,
            "flex_flow": null,
            "grid_area": null,
            "grid_auto_columns": null,
            "grid_auto_flow": null,
            "grid_auto_rows": null,
            "grid_column": null,
            "grid_gap": null,
            "grid_row": null,
            "grid_template_areas": null,
            "grid_template_columns": null,
            "grid_template_rows": null,
            "height": null,
            "justify_content": null,
            "justify_items": null,
            "left": null,
            "margin": null,
            "max_height": null,
            "max_width": null,
            "min_height": null,
            "min_width": null,
            "object_fit": null,
            "object_position": null,
            "order": null,
            "overflow": null,
            "overflow_x": null,
            "overflow_y": null,
            "padding": null,
            "right": null,
            "top": null,
            "visibility": null,
            "width": null
          }
        },
        "27524561613a4a14a50f1b50518b35a4": {
          "model_module": "@jupyter-widgets/base",
          "model_name": "LayoutModel",
          "model_module_version": "1.2.0",
          "state": {
            "_model_module": "@jupyter-widgets/base",
            "_model_module_version": "1.2.0",
            "_model_name": "LayoutModel",
            "_view_count": null,
            "_view_module": "@jupyter-widgets/base",
            "_view_module_version": "1.2.0",
            "_view_name": "LayoutView",
            "align_content": null,
            "align_items": null,
            "align_self": null,
            "border": null,
            "bottom": null,
            "display": null,
            "flex": null,
            "flex_flow": null,
            "grid_area": null,
            "grid_auto_columns": null,
            "grid_auto_flow": null,
            "grid_auto_rows": null,
            "grid_column": null,
            "grid_gap": null,
            "grid_row": null,
            "grid_template_areas": null,
            "grid_template_columns": null,
            "grid_template_rows": null,
            "height": null,
            "justify_content": null,
            "justify_items": null,
            "left": null,
            "margin": null,
            "max_height": null,
            "max_width": null,
            "min_height": null,
            "min_width": null,
            "object_fit": null,
            "object_position": null,
            "order": null,
            "overflow": null,
            "overflow_x": null,
            "overflow_y": null,
            "padding": null,
            "right": null,
            "top": null,
            "visibility": null,
            "width": null
          }
        },
        "5051cac700f24faca0057015bc806ec2": {
          "model_module": "@jupyter-widgets/controls",
          "model_name": "DescriptionStyleModel",
          "model_module_version": "1.5.0",
          "state": {
            "_model_module": "@jupyter-widgets/controls",
            "_model_module_version": "1.5.0",
            "_model_name": "DescriptionStyleModel",
            "_view_count": null,
            "_view_module": "@jupyter-widgets/base",
            "_view_module_version": "1.2.0",
            "_view_name": "StyleView",
            "description_width": ""
          }
        },
        "a852fa2942444679a848a9a73e6d0805": {
          "model_module": "@jupyter-widgets/base",
          "model_name": "LayoutModel",
          "model_module_version": "1.2.0",
          "state": {
            "_model_module": "@jupyter-widgets/base",
            "_model_module_version": "1.2.0",
            "_model_name": "LayoutModel",
            "_view_count": null,
            "_view_module": "@jupyter-widgets/base",
            "_view_module_version": "1.2.0",
            "_view_name": "LayoutView",
            "align_content": null,
            "align_items": null,
            "align_self": null,
            "border": null,
            "bottom": null,
            "display": null,
            "flex": null,
            "flex_flow": null,
            "grid_area": null,
            "grid_auto_columns": null,
            "grid_auto_flow": null,
            "grid_auto_rows": null,
            "grid_column": null,
            "grid_gap": null,
            "grid_row": null,
            "grid_template_areas": null,
            "grid_template_columns": null,
            "grid_template_rows": null,
            "height": null,
            "justify_content": null,
            "justify_items": null,
            "left": null,
            "margin": null,
            "max_height": null,
            "max_width": null,
            "min_height": null,
            "min_width": null,
            "object_fit": null,
            "object_position": null,
            "order": null,
            "overflow": null,
            "overflow_x": null,
            "overflow_y": null,
            "padding": null,
            "right": null,
            "top": null,
            "visibility": null,
            "width": null
          }
        },
        "18644ca1350c4f5ca5531b13d9e71b6f": {
          "model_module": "@jupyter-widgets/controls",
          "model_name": "ProgressStyleModel",
          "model_module_version": "1.5.0",
          "state": {
            "_model_module": "@jupyter-widgets/controls",
            "_model_module_version": "1.5.0",
            "_model_name": "ProgressStyleModel",
            "_view_count": null,
            "_view_module": "@jupyter-widgets/base",
            "_view_module_version": "1.2.0",
            "_view_name": "StyleView",
            "bar_color": null,
            "description_width": ""
          }
        },
        "c961e7dc9cee45c5a87e653b72edf0b2": {
          "model_module": "@jupyter-widgets/base",
          "model_name": "LayoutModel",
          "model_module_version": "1.2.0",
          "state": {
            "_model_module": "@jupyter-widgets/base",
            "_model_module_version": "1.2.0",
            "_model_name": "LayoutModel",
            "_view_count": null,
            "_view_module": "@jupyter-widgets/base",
            "_view_module_version": "1.2.0",
            "_view_name": "LayoutView",
            "align_content": null,
            "align_items": null,
            "align_self": null,
            "border": null,
            "bottom": null,
            "display": null,
            "flex": null,
            "flex_flow": null,
            "grid_area": null,
            "grid_auto_columns": null,
            "grid_auto_flow": null,
            "grid_auto_rows": null,
            "grid_column": null,
            "grid_gap": null,
            "grid_row": null,
            "grid_template_areas": null,
            "grid_template_columns": null,
            "grid_template_rows": null,
            "height": null,
            "justify_content": null,
            "justify_items": null,
            "left": null,
            "margin": null,
            "max_height": null,
            "max_width": null,
            "min_height": null,
            "min_width": null,
            "object_fit": null,
            "object_position": null,
            "order": null,
            "overflow": null,
            "overflow_x": null,
            "overflow_y": null,
            "padding": null,
            "right": null,
            "top": null,
            "visibility": null,
            "width": null
          }
        },
        "09b7c363e41340639dcb9b83cfa0e1f7": {
          "model_module": "@jupyter-widgets/controls",
          "model_name": "DescriptionStyleModel",
          "model_module_version": "1.5.0",
          "state": {
            "_model_module": "@jupyter-widgets/controls",
            "_model_module_version": "1.5.0",
            "_model_name": "DescriptionStyleModel",
            "_view_count": null,
            "_view_module": "@jupyter-widgets/base",
            "_view_module_version": "1.2.0",
            "_view_name": "StyleView",
            "description_width": ""
          }
        },
        "b21591d815314691a08f0bd0eff30b18": {
          "model_module": "@jupyter-widgets/controls",
          "model_name": "HBoxModel",
          "model_module_version": "1.5.0",
          "state": {
            "_dom_classes": [],
            "_model_module": "@jupyter-widgets/controls",
            "_model_module_version": "1.5.0",
            "_model_name": "HBoxModel",
            "_view_count": null,
            "_view_module": "@jupyter-widgets/controls",
            "_view_module_version": "1.5.0",
            "_view_name": "HBoxView",
            "box_style": "",
            "children": [
              "IPY_MODEL_d77ae8ee5b6e46cabeb098271391162a",
              "IPY_MODEL_9df422a36f4b40e2a96c01fd308d2e55",
              "IPY_MODEL_d8fef54c1e4c480e81173c201d60a308"
            ],
            "layout": "IPY_MODEL_ddf20caeccb140f7a152ebb0dc715bc8"
          }
        },
        "d77ae8ee5b6e46cabeb098271391162a": {
          "model_module": "@jupyter-widgets/controls",
          "model_name": "HTMLModel",
          "model_module_version": "1.5.0",
          "state": {
            "_dom_classes": [],
            "_model_module": "@jupyter-widgets/controls",
            "_model_module_version": "1.5.0",
            "_model_name": "HTMLModel",
            "_view_count": null,
            "_view_module": "@jupyter-widgets/controls",
            "_view_module_version": "1.5.0",
            "_view_name": "HTMLView",
            "description": "",
            "description_tooltip": null,
            "layout": "IPY_MODEL_bb44caac52f34a93a0cdb90d27c0f1dc",
            "placeholder": "​",
            "style": "IPY_MODEL_87ea59d019364a8fa5b074f27fba43e4",
            "value": "Layer 3/4: Epoch 0/1: Average Accauracy: 0.9946210384368896: 100%"
          }
        },
        "9df422a36f4b40e2a96c01fd308d2e55": {
          "model_module": "@jupyter-widgets/controls",
          "model_name": "FloatProgressModel",
          "model_module_version": "1.5.0",
          "state": {
            "_dom_classes": [],
            "_model_module": "@jupyter-widgets/controls",
            "_model_module_version": "1.5.0",
            "_model_name": "FloatProgressModel",
            "_view_count": null,
            "_view_module": "@jupyter-widgets/controls",
            "_view_module_version": "1.5.0",
            "_view_name": "ProgressView",
            "bar_style": "success",
            "description": "",
            "description_tooltip": null,
            "layout": "IPY_MODEL_72d910747a4844fbb37fe51b5916ab09",
            "max": 1875,
            "min": 0,
            "orientation": "horizontal",
            "style": "IPY_MODEL_109bde3540f745d4ac2fa1807f98dbca",
            "value": 1875
          }
        },
        "d8fef54c1e4c480e81173c201d60a308": {
          "model_module": "@jupyter-widgets/controls",
          "model_name": "HTMLModel",
          "model_module_version": "1.5.0",
          "state": {
            "_dom_classes": [],
            "_model_module": "@jupyter-widgets/controls",
            "_model_module_version": "1.5.0",
            "_model_name": "HTMLModel",
            "_view_count": null,
            "_view_module": "@jupyter-widgets/controls",
            "_view_module_version": "1.5.0",
            "_view_name": "HTMLView",
            "description": "",
            "description_tooltip": null,
            "layout": "IPY_MODEL_6e4894da2dcc43f9a2362ae9ef0b441d",
            "placeholder": "​",
            "style": "IPY_MODEL_72c5c900a83f46c296d8e86e47a66799",
            "value": " 1875/1875 [02:30&lt;00:00,  8.30it/s]"
          }
        },
        "ddf20caeccb140f7a152ebb0dc715bc8": {
          "model_module": "@jupyter-widgets/base",
          "model_name": "LayoutModel",
          "model_module_version": "1.2.0",
          "state": {
            "_model_module": "@jupyter-widgets/base",
            "_model_module_version": "1.2.0",
            "_model_name": "LayoutModel",
            "_view_count": null,
            "_view_module": "@jupyter-widgets/base",
            "_view_module_version": "1.2.0",
            "_view_name": "LayoutView",
            "align_content": null,
            "align_items": null,
            "align_self": null,
            "border": null,
            "bottom": null,
            "display": null,
            "flex": null,
            "flex_flow": null,
            "grid_area": null,
            "grid_auto_columns": null,
            "grid_auto_flow": null,
            "grid_auto_rows": null,
            "grid_column": null,
            "grid_gap": null,
            "grid_row": null,
            "grid_template_areas": null,
            "grid_template_columns": null,
            "grid_template_rows": null,
            "height": null,
            "justify_content": null,
            "justify_items": null,
            "left": null,
            "margin": null,
            "max_height": null,
            "max_width": null,
            "min_height": null,
            "min_width": null,
            "object_fit": null,
            "object_position": null,
            "order": null,
            "overflow": null,
            "overflow_x": null,
            "overflow_y": null,
            "padding": null,
            "right": null,
            "top": null,
            "visibility": null,
            "width": null
          }
        },
        "bb44caac52f34a93a0cdb90d27c0f1dc": {
          "model_module": "@jupyter-widgets/base",
          "model_name": "LayoutModel",
          "model_module_version": "1.2.0",
          "state": {
            "_model_module": "@jupyter-widgets/base",
            "_model_module_version": "1.2.0",
            "_model_name": "LayoutModel",
            "_view_count": null,
            "_view_module": "@jupyter-widgets/base",
            "_view_module_version": "1.2.0",
            "_view_name": "LayoutView",
            "align_content": null,
            "align_items": null,
            "align_self": null,
            "border": null,
            "bottom": null,
            "display": null,
            "flex": null,
            "flex_flow": null,
            "grid_area": null,
            "grid_auto_columns": null,
            "grid_auto_flow": null,
            "grid_auto_rows": null,
            "grid_column": null,
            "grid_gap": null,
            "grid_row": null,
            "grid_template_areas": null,
            "grid_template_columns": null,
            "grid_template_rows": null,
            "height": null,
            "justify_content": null,
            "justify_items": null,
            "left": null,
            "margin": null,
            "max_height": null,
            "max_width": null,
            "min_height": null,
            "min_width": null,
            "object_fit": null,
            "object_position": null,
            "order": null,
            "overflow": null,
            "overflow_x": null,
            "overflow_y": null,
            "padding": null,
            "right": null,
            "top": null,
            "visibility": null,
            "width": null
          }
        },
        "87ea59d019364a8fa5b074f27fba43e4": {
          "model_module": "@jupyter-widgets/controls",
          "model_name": "DescriptionStyleModel",
          "model_module_version": "1.5.0",
          "state": {
            "_model_module": "@jupyter-widgets/controls",
            "_model_module_version": "1.5.0",
            "_model_name": "DescriptionStyleModel",
            "_view_count": null,
            "_view_module": "@jupyter-widgets/base",
            "_view_module_version": "1.2.0",
            "_view_name": "StyleView",
            "description_width": ""
          }
        },
        "72d910747a4844fbb37fe51b5916ab09": {
          "model_module": "@jupyter-widgets/base",
          "model_name": "LayoutModel",
          "model_module_version": "1.2.0",
          "state": {
            "_model_module": "@jupyter-widgets/base",
            "_model_module_version": "1.2.0",
            "_model_name": "LayoutModel",
            "_view_count": null,
            "_view_module": "@jupyter-widgets/base",
            "_view_module_version": "1.2.0",
            "_view_name": "LayoutView",
            "align_content": null,
            "align_items": null,
            "align_self": null,
            "border": null,
            "bottom": null,
            "display": null,
            "flex": null,
            "flex_flow": null,
            "grid_area": null,
            "grid_auto_columns": null,
            "grid_auto_flow": null,
            "grid_auto_rows": null,
            "grid_column": null,
            "grid_gap": null,
            "grid_row": null,
            "grid_template_areas": null,
            "grid_template_columns": null,
            "grid_template_rows": null,
            "height": null,
            "justify_content": null,
            "justify_items": null,
            "left": null,
            "margin": null,
            "max_height": null,
            "max_width": null,
            "min_height": null,
            "min_width": null,
            "object_fit": null,
            "object_position": null,
            "order": null,
            "overflow": null,
            "overflow_x": null,
            "overflow_y": null,
            "padding": null,
            "right": null,
            "top": null,
            "visibility": null,
            "width": null
          }
        },
        "109bde3540f745d4ac2fa1807f98dbca": {
          "model_module": "@jupyter-widgets/controls",
          "model_name": "ProgressStyleModel",
          "model_module_version": "1.5.0",
          "state": {
            "_model_module": "@jupyter-widgets/controls",
            "_model_module_version": "1.5.0",
            "_model_name": "ProgressStyleModel",
            "_view_count": null,
            "_view_module": "@jupyter-widgets/base",
            "_view_module_version": "1.2.0",
            "_view_name": "StyleView",
            "bar_color": null,
            "description_width": ""
          }
        },
        "6e4894da2dcc43f9a2362ae9ef0b441d": {
          "model_module": "@jupyter-widgets/base",
          "model_name": "LayoutModel",
          "model_module_version": "1.2.0",
          "state": {
            "_model_module": "@jupyter-widgets/base",
            "_model_module_version": "1.2.0",
            "_model_name": "LayoutModel",
            "_view_count": null,
            "_view_module": "@jupyter-widgets/base",
            "_view_module_version": "1.2.0",
            "_view_name": "LayoutView",
            "align_content": null,
            "align_items": null,
            "align_self": null,
            "border": null,
            "bottom": null,
            "display": null,
            "flex": null,
            "flex_flow": null,
            "grid_area": null,
            "grid_auto_columns": null,
            "grid_auto_flow": null,
            "grid_auto_rows": null,
            "grid_column": null,
            "grid_gap": null,
            "grid_row": null,
            "grid_template_areas": null,
            "grid_template_columns": null,
            "grid_template_rows": null,
            "height": null,
            "justify_content": null,
            "justify_items": null,
            "left": null,
            "margin": null,
            "max_height": null,
            "max_width": null,
            "min_height": null,
            "min_width": null,
            "object_fit": null,
            "object_position": null,
            "order": null,
            "overflow": null,
            "overflow_x": null,
            "overflow_y": null,
            "padding": null,
            "right": null,
            "top": null,
            "visibility": null,
            "width": null
          }
        },
        "72c5c900a83f46c296d8e86e47a66799": {
          "model_module": "@jupyter-widgets/controls",
          "model_name": "DescriptionStyleModel",
          "model_module_version": "1.5.0",
          "state": {
            "_model_module": "@jupyter-widgets/controls",
            "_model_module_version": "1.5.0",
            "_model_name": "DescriptionStyleModel",
            "_view_count": null,
            "_view_module": "@jupyter-widgets/base",
            "_view_module_version": "1.2.0",
            "_view_name": "StyleView",
            "description_width": ""
          }
        },
        "38b4af380c80497cbea31cada61e5c55": {
          "model_module": "@jupyter-widgets/controls",
          "model_name": "HBoxModel",
          "model_module_version": "1.5.0",
          "state": {
            "_dom_classes": [],
            "_model_module": "@jupyter-widgets/controls",
            "_model_module_version": "1.5.0",
            "_model_name": "HBoxModel",
            "_view_count": null,
            "_view_module": "@jupyter-widgets/controls",
            "_view_module_version": "1.5.0",
            "_view_name": "HBoxView",
            "box_style": "",
            "children": [
              "IPY_MODEL_6466434bf774405f868a5c3764734b54",
              "IPY_MODEL_b0e67b06362d4f0e8bb3d1365f5a7607",
              "IPY_MODEL_63a342c9e86e4c37a53218aada55c179"
            ],
            "layout": "IPY_MODEL_f839bb9a015b49e09f526778b1c42808"
          }
        },
        "6466434bf774405f868a5c3764734b54": {
          "model_module": "@jupyter-widgets/controls",
          "model_name": "HTMLModel",
          "model_module_version": "1.5.0",
          "state": {
            "_dom_classes": [],
            "_model_module": "@jupyter-widgets/controls",
            "_model_module_version": "1.5.0",
            "_model_name": "HTMLModel",
            "_view_count": null,
            "_view_module": "@jupyter-widgets/controls",
            "_view_module_version": "1.5.0",
            "_view_name": "HTMLView",
            "description": "",
            "description_tooltip": null,
            "layout": "IPY_MODEL_b55b88e910c14ca49bca4f927448c4fc",
            "placeholder": "​",
            "style": "IPY_MODEL_bfc53a8c5ad7405786f1497af88ec810",
            "value": "Epoch 0/1: Average Accauracy: 0.35254234075546265: 100%"
          }
        },
        "b0e67b06362d4f0e8bb3d1365f5a7607": {
          "model_module": "@jupyter-widgets/controls",
          "model_name": "FloatProgressModel",
          "model_module_version": "1.5.0",
          "state": {
            "_dom_classes": [],
            "_model_module": "@jupyter-widgets/controls",
            "_model_module_version": "1.5.0",
            "_model_name": "FloatProgressModel",
            "_view_count": null,
            "_view_module": "@jupyter-widgets/controls",
            "_view_module_version": "1.5.0",
            "_view_name": "ProgressView",
            "bar_style": "success",
            "description": "",
            "description_tooltip": null,
            "layout": "IPY_MODEL_a0034c906d804a65b631a91b25996f16",
            "max": 938,
            "min": 0,
            "orientation": "horizontal",
            "style": "IPY_MODEL_58c09e46bd614c478bfaefd7ec86bead",
            "value": 938
          }
        },
        "63a342c9e86e4c37a53218aada55c179": {
          "model_module": "@jupyter-widgets/controls",
          "model_name": "HTMLModel",
          "model_module_version": "1.5.0",
          "state": {
            "_dom_classes": [],
            "_model_module": "@jupyter-widgets/controls",
            "_model_module_version": "1.5.0",
            "_model_name": "HTMLModel",
            "_view_count": null,
            "_view_module": "@jupyter-widgets/controls",
            "_view_module_version": "1.5.0",
            "_view_name": "HTMLView",
            "description": "",
            "description_tooltip": null,
            "layout": "IPY_MODEL_90238bfeef4449f8a0df8be156223185",
            "placeholder": "​",
            "style": "IPY_MODEL_e953b444ec5a435bba3b9d4703c64f69",
            "value": " 938/938 [00:13&lt;00:00, 39.86it/s]"
          }
        },
        "f839bb9a015b49e09f526778b1c42808": {
          "model_module": "@jupyter-widgets/base",
          "model_name": "LayoutModel",
          "model_module_version": "1.2.0",
          "state": {
            "_model_module": "@jupyter-widgets/base",
            "_model_module_version": "1.2.0",
            "_model_name": "LayoutModel",
            "_view_count": null,
            "_view_module": "@jupyter-widgets/base",
            "_view_module_version": "1.2.0",
            "_view_name": "LayoutView",
            "align_content": null,
            "align_items": null,
            "align_self": null,
            "border": null,
            "bottom": null,
            "display": null,
            "flex": null,
            "flex_flow": null,
            "grid_area": null,
            "grid_auto_columns": null,
            "grid_auto_flow": null,
            "grid_auto_rows": null,
            "grid_column": null,
            "grid_gap": null,
            "grid_row": null,
            "grid_template_areas": null,
            "grid_template_columns": null,
            "grid_template_rows": null,
            "height": null,
            "justify_content": null,
            "justify_items": null,
            "left": null,
            "margin": null,
            "max_height": null,
            "max_width": null,
            "min_height": null,
            "min_width": null,
            "object_fit": null,
            "object_position": null,
            "order": null,
            "overflow": null,
            "overflow_x": null,
            "overflow_y": null,
            "padding": null,
            "right": null,
            "top": null,
            "visibility": null,
            "width": null
          }
        },
        "b55b88e910c14ca49bca4f927448c4fc": {
          "model_module": "@jupyter-widgets/base",
          "model_name": "LayoutModel",
          "model_module_version": "1.2.0",
          "state": {
            "_model_module": "@jupyter-widgets/base",
            "_model_module_version": "1.2.0",
            "_model_name": "LayoutModel",
            "_view_count": null,
            "_view_module": "@jupyter-widgets/base",
            "_view_module_version": "1.2.0",
            "_view_name": "LayoutView",
            "align_content": null,
            "align_items": null,
            "align_self": null,
            "border": null,
            "bottom": null,
            "display": null,
            "flex": null,
            "flex_flow": null,
            "grid_area": null,
            "grid_auto_columns": null,
            "grid_auto_flow": null,
            "grid_auto_rows": null,
            "grid_column": null,
            "grid_gap": null,
            "grid_row": null,
            "grid_template_areas": null,
            "grid_template_columns": null,
            "grid_template_rows": null,
            "height": null,
            "justify_content": null,
            "justify_items": null,
            "left": null,
            "margin": null,
            "max_height": null,
            "max_width": null,
            "min_height": null,
            "min_width": null,
            "object_fit": null,
            "object_position": null,
            "order": null,
            "overflow": null,
            "overflow_x": null,
            "overflow_y": null,
            "padding": null,
            "right": null,
            "top": null,
            "visibility": null,
            "width": null
          }
        },
        "bfc53a8c5ad7405786f1497af88ec810": {
          "model_module": "@jupyter-widgets/controls",
          "model_name": "DescriptionStyleModel",
          "model_module_version": "1.5.0",
          "state": {
            "_model_module": "@jupyter-widgets/controls",
            "_model_module_version": "1.5.0",
            "_model_name": "DescriptionStyleModel",
            "_view_count": null,
            "_view_module": "@jupyter-widgets/base",
            "_view_module_version": "1.2.0",
            "_view_name": "StyleView",
            "description_width": ""
          }
        },
        "a0034c906d804a65b631a91b25996f16": {
          "model_module": "@jupyter-widgets/base",
          "model_name": "LayoutModel",
          "model_module_version": "1.2.0",
          "state": {
            "_model_module": "@jupyter-widgets/base",
            "_model_module_version": "1.2.0",
            "_model_name": "LayoutModel",
            "_view_count": null,
            "_view_module": "@jupyter-widgets/base",
            "_view_module_version": "1.2.0",
            "_view_name": "LayoutView",
            "align_content": null,
            "align_items": null,
            "align_self": null,
            "border": null,
            "bottom": null,
            "display": null,
            "flex": null,
            "flex_flow": null,
            "grid_area": null,
            "grid_auto_columns": null,
            "grid_auto_flow": null,
            "grid_auto_rows": null,
            "grid_column": null,
            "grid_gap": null,
            "grid_row": null,
            "grid_template_areas": null,
            "grid_template_columns": null,
            "grid_template_rows": null,
            "height": null,
            "justify_content": null,
            "justify_items": null,
            "left": null,
            "margin": null,
            "max_height": null,
            "max_width": null,
            "min_height": null,
            "min_width": null,
            "object_fit": null,
            "object_position": null,
            "order": null,
            "overflow": null,
            "overflow_x": null,
            "overflow_y": null,
            "padding": null,
            "right": null,
            "top": null,
            "visibility": null,
            "width": null
          }
        },
        "58c09e46bd614c478bfaefd7ec86bead": {
          "model_module": "@jupyter-widgets/controls",
          "model_name": "ProgressStyleModel",
          "model_module_version": "1.5.0",
          "state": {
            "_model_module": "@jupyter-widgets/controls",
            "_model_module_version": "1.5.0",
            "_model_name": "ProgressStyleModel",
            "_view_count": null,
            "_view_module": "@jupyter-widgets/base",
            "_view_module_version": "1.2.0",
            "_view_name": "StyleView",
            "bar_color": null,
            "description_width": ""
          }
        },
        "90238bfeef4449f8a0df8be156223185": {
          "model_module": "@jupyter-widgets/base",
          "model_name": "LayoutModel",
          "model_module_version": "1.2.0",
          "state": {
            "_model_module": "@jupyter-widgets/base",
            "_model_module_version": "1.2.0",
            "_model_name": "LayoutModel",
            "_view_count": null,
            "_view_module": "@jupyter-widgets/base",
            "_view_module_version": "1.2.0",
            "_view_name": "LayoutView",
            "align_content": null,
            "align_items": null,
            "align_self": null,
            "border": null,
            "bottom": null,
            "display": null,
            "flex": null,
            "flex_flow": null,
            "grid_area": null,
            "grid_auto_columns": null,
            "grid_auto_flow": null,
            "grid_auto_rows": null,
            "grid_column": null,
            "grid_gap": null,
            "grid_row": null,
            "grid_template_areas": null,
            "grid_template_columns": null,
            "grid_template_rows": null,
            "height": null,
            "justify_content": null,
            "justify_items": null,
            "left": null,
            "margin": null,
            "max_height": null,
            "max_width": null,
            "min_height": null,
            "min_width": null,
            "object_fit": null,
            "object_position": null,
            "order": null,
            "overflow": null,
            "overflow_x": null,
            "overflow_y": null,
            "padding": null,
            "right": null,
            "top": null,
            "visibility": null,
            "width": null
          }
        },
        "e953b444ec5a435bba3b9d4703c64f69": {
          "model_module": "@jupyter-widgets/controls",
          "model_name": "DescriptionStyleModel",
          "model_module_version": "1.5.0",
          "state": {
            "_model_module": "@jupyter-widgets/controls",
            "_model_module_version": "1.5.0",
            "_model_name": "DescriptionStyleModel",
            "_view_count": null,
            "_view_module": "@jupyter-widgets/base",
            "_view_module_version": "1.2.0",
            "_view_name": "StyleView",
            "description_width": ""
          }
        }
      }
    },
    "accelerator": "GPU",
    "gpuClass": "premium"
  },
  "nbformat": 4,
  "nbformat_minor": 0
}